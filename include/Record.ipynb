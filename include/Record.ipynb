{
 "cells": [
  {
   "cell_type": "code",
   "execution_count": null,
   "metadata": {},
   "outputs": [],
   "source": [
    "import serial\n",
    "import csv\n",
    "import struct\n",
    "\n",
    "# Configura el puerto serial, ajusta el nombre del puerto según sea necesario\n",
    "puerto_serial = serial.Serial(\n",
    "    \"COM4\", 115200\n",
    ")  # Reemplaza 'COM3' con el nombre de tu puerto\n",
    "\n",
    "\n",
    "def read_binary_data(serial_port, data_size):\n",
    "    data = serial_port.read(data_size)  # Lee los datos binarios\n",
    "    return int.from_bytes(data, byteorder=\"little\")  # Convierte a un entero\n",
    "\n",
    "\n",
    "data_size = 2\n",
    "end_of_transmission_char = 0x04\n",
    "\n",
    "matriz_datos = []\n",
    "\n",
    "while True:\n",
    "    datos_fila = []\n",
    "\n",
    "    # Escuchar continuamente al puerto serial\n",
    "    while True:\n",
    "        # Intentar leer un dato\n",
    "        try:\n",
    "            linea_serial = read_binary_data(puerto_serial, data_size)\n",
    "            if(linea_serial<13000):\n",
    "                datos_fila.append(float(linea_serial))\n",
    "        except Exception as e:\n",
    "            print(f\"Error al leer datos: {e}\")\n",
    "            break\n",
    "\n",
    "        # Verificar si se ha recibido el carácter especial\n",
    "        if puerto_serial.in_waiting > 0:\n",
    "            if ord(puerto_serial.read()) == end_of_transmission_char:\n",
    "                break\n",
    "\n",
    "    # Verificar si se han recibido datos en la fila actual\n",
    "    if datos_fila:\n",
    "        print(datos_fila)\n",
    "        matriz_datos.append(datos_fila)"
   ]
  },
  {
   "cell_type": "code",
   "execution_count": null,
   "metadata": {},
   "outputs": [],
   "source": [
    "matriz_anular = matriz_datos"
   ]
  },
  {
   "cell_type": "code",
   "execution_count": null,
   "metadata": {},
   "outputs": [],
   "source": [
    "matriz_indice = matriz_datos\n"
   ]
  },
  {
   "cell_type": "code",
   "execution_count": null,
   "metadata": {},
   "outputs": [],
   "source": [
    "matriz_medio = matriz_datos\n"
   ]
  },
  {
   "cell_type": "code",
   "execution_count": null,
   "metadata": {},
   "outputs": [],
   "source": [
    "matriz_nn = matriz_datos\n"
   ]
  },
  {
   "cell_type": "code",
   "execution_count": null,
   "metadata": {},
   "outputs": [],
   "source": [
    "import pandas as pd\n",
    "df_anular_V2 = pd.DataFrame(matriz_anular)\n",
    "df_medio_V2 = pd.DataFrame(matriz_medio)\n",
    "df_indice_V2 = pd.DataFrame(matriz_indice)\n",
    "# df_nn = pd.DataFrame(matriz_nn)\n",
    "\n",
    "df_anular_V2_sin_nan = df_anular_V2.fillna(0)\n",
    "df_medio_V2_sin_nan = df_medio_V2.fillna(0)\n",
    "df_indice_V2_sin_nan = df_indice_V2.fillna(0)\n",
    "# df_nn_sin_nan = df_nn.fillna(0)"
   ]
  },
  {
   "cell_type": "code",
   "execution_count": null,
   "metadata": {},
   "outputs": [],
   "source": [
    "df_anular_V2_sin_nan.to_csv('Records/Matriz_Anular_V8.csv',index=False)\n",
    "df_medio_V2_sin_nan.to_csv('Records/Matriz_Medio_V8.csv',index=False)\n",
    "df_indice_V2_sin_nan.to_csv('Records/Matriz_Indice_V8.csv',index=False)\n",
    "# df_nn_sin_nan.to_csv('Matriz_nn.csv',index=False)"
   ]
  }
 ],
 "metadata": {
  "kernelspec": {
   "display_name": "Python 3",
   "language": "python",
   "name": "python3"
  },
  "language_info": {
   "codemirror_mode": {
    "name": "ipython",
    "version": 3
   },
   "file_extension": ".py",
   "mimetype": "text/x-python",
   "name": "python",
   "nbconvert_exporter": "python",
   "pygments_lexer": "ipython3",
   "version": "3.11.6"
  }
 },
 "nbformat": 4,
 "nbformat_minor": 2
}
