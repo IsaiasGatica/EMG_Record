{
 "cells": [
  {
   "cell_type": "code",
   "execution_count": 1,
   "metadata": {},
   "outputs": [],
   "source": [
    "from Funciones import*"
   ]
  },
  {
   "cell_type": "markdown",
   "metadata": {},
   "source": [
    "##  Cargo datos de ZEMG V2"
   ]
  },
  {
   "cell_type": "code",
   "execution_count": 2,
   "metadata": {},
   "outputs": [],
   "source": [
    "import csv\n",
    "def cargar_matriz_desde_csv(nombre_archivo):\n",
    "    matriz = []\n",
    "    with open(nombre_archivo, 'r') as file:\n",
    "        reader = csv.reader(file)\n",
    "        for fila in reader:\n",
    "            matriz.append([float(elemento) for elemento in fila])\n",
    "    return matriz\n",
    "\n",
    "# Cargar las matrices desde los archivos CSV\n",
    "\n",
    "matriz_anular_V9 = cargar_matriz_desde_csv('Records/Matriz_Anular_V9.csv')\n",
    "matriz_indice_V9 = cargar_matriz_desde_csv('Records/Matriz_Indice_V9.csv')\n",
    "matriz_medio_V9 = cargar_matriz_desde_csv('Records/Matriz_Medio_V9.csv')\n",
    "matriz_anular_V10 = cargar_matriz_desde_csv('Records/Matriz_Anular_V10.csv')\n",
    "matriz_indice_V10 = cargar_matriz_desde_csv('Records/Matriz_Indice_V10.csv')\n",
    "matriz_medio_V10 = cargar_matriz_desde_csv('Records/Matriz_Medio_V10.csv')\n",
    "matriz_anular_V11 = cargar_matriz_desde_csv('Records/Matriz_Anular_V11.csv')\n",
    "matriz_indice_V11 = cargar_matriz_desde_csv('Records/Matriz_Indice_V11.csv')\n",
    "matriz_medio_V11 = cargar_matriz_desde_csv('Records/Matriz_Medio_V11.csv')\n",
    "matriz_anular_V12 = cargar_matriz_desde_csv('Records/Matriz_Anular_V12.csv')\n",
    "matriz_indice_V12 = cargar_matriz_desde_csv('Records/Matriz_Indice_V12.csv')\n",
    "matriz_medio_V12 = cargar_matriz_desde_csv('Records/Matriz_Medio_V12.csv')\n",
    "matriz_anular_V13 = cargar_matriz_desde_csv('Records/Matriz_Anular_V13.csv')\n",
    "matriz_indice_V13 = cargar_matriz_desde_csv('Records/Matriz_Indice_V13.csv')\n",
    "matriz_medio_V13 = cargar_matriz_desde_csv('Records/Matriz_Medio_V13.csv')\n",
    "\n",
    "\n",
    "matriz_raw_anular = matriz_anular_V9[1:] + matriz_anular_V10[1:] + matriz_anular_V11[1:] + matriz_anular_V12[1:]  + matriz_anular_V13[1:]\n",
    "matriz_raw_indice = matriz_indice_V9[1:] + matriz_indice_V10[1:] + matriz_indice_V11[1:] + matriz_indice_V12[1:] + matriz_indice_V13[1:]\n",
    "matriz_raw_medio =  matriz_medio_V9[1:]  + matriz_medio_V10[1:]  + matriz_medio_V11[1:] + matriz_medio_V12[1:]  + matriz_medio_V13[1:] \n",
    "\n",
    "# matriz_raw_anular = matriz_anular_V13[1:]\n",
    "# matriz_raw_indice = matriz_indice_V13[1:]\n",
    "# matriz_raw_medio =  matriz_medio_V13[1:]  \n",
    "\n"
   ]
  },
  {
   "cell_type": "code",
   "execution_count": 3,
   "metadata": {},
   "outputs": [],
   "source": [
    "\n",
    "\n",
    "def procesar_matriz(matriz):\n",
    "    # Encuentra la longitud máxima de las sublistas\n",
    "    longitud_maxima = max(len(sublista) for sublista in matriz)\n",
    "\n",
    "    # Rellena las sublistas con ceros para que tengan la misma longitud\n",
    "    matriz_corregida = [sublista + [0] * (longitud_maxima - len(sublista)) for sublista in matriz]\n",
    "\n",
    "    # Convierte la lista corregida en una matriz de numpy\n",
    "    matriz_np = np.array(matriz_corregida, dtype=float)\n",
    "\n",
    "    # Reemplaza los NaN y ceros con un número aleatorio entre 114 y 121\n",
    "    matriz_procesada = np.where(np.logical_or(np.isnan(matriz_np), matriz_np == 0), np.random.randint(114, 122, matriz_np.shape), matriz_np)\n",
    "\n",
    "    return matriz_procesada\n",
    "\n",
    "matriz_raw_anular = procesar_matriz(matriz_raw_anular)\n",
    "matriz_raw_indice = procesar_matriz(matriz_raw_indice)\n",
    "matriz_raw_medio  = procesar_matriz(matriz_raw_medio )\n",
    "\n",
    "\n"
   ]
  },
  {
   "cell_type": "code",
   "execution_count": 101,
   "metadata": {},
   "outputs": [
    {
     "data": {
      "application/vnd.plotly.v1+json": {
       "config": {
        "plotlyServerURL": "https://plot.ly"
       },
       "data": [
        {
         "mode": "lines",
         "name": "Lista",
         "type": "scatter",
         "x": [
          0,
          1,
          2,
          3,
          4,
          5,
          6,
          7,
          8,
          9,
          10,
          11,
          12,
          13,
          14,
          15,
          16,
          17,
          18,
          19,
          20,
          21,
          22,
          23,
          24,
          25,
          26,
          27,
          28,
          29,
          30,
          31,
          32,
          33,
          34,
          35,
          36,
          37,
          38,
          39,
          40,
          41,
          42,
          43,
          44,
          45,
          46,
          47,
          48,
          49,
          50,
          51,
          52,
          53,
          54,
          55,
          56,
          57,
          58,
          59,
          60,
          61,
          62,
          63,
          64,
          65,
          66,
          67,
          68,
          69,
          70,
          71,
          72,
          73,
          74,
          75,
          76,
          77,
          78,
          79,
          80,
          81,
          82,
          83,
          84,
          85,
          86,
          87,
          88,
          89,
          90,
          91,
          92,
          93,
          94,
          95,
          96,
          97,
          98,
          99,
          100,
          101,
          102,
          103,
          104,
          105,
          106,
          107,
          108,
          109,
          110,
          111,
          112,
          113,
          114,
          115,
          116,
          117,
          118,
          119,
          120,
          121,
          122,
          123,
          124,
          125,
          126,
          127,
          128,
          129,
          130,
          131,
          132,
          133,
          134,
          135,
          136,
          137,
          138,
          139,
          140,
          141,
          142,
          143,
          144,
          145,
          146,
          147,
          148,
          149,
          150,
          151,
          152,
          153,
          154,
          155,
          156,
          157,
          158,
          159,
          160,
          161,
          162,
          163,
          164,
          165,
          166,
          167,
          168,
          169,
          170,
          171,
          172,
          173,
          174,
          175,
          176,
          177,
          178,
          179,
          180,
          181,
          182,
          183,
          184,
          185,
          186,
          187,
          188,
          189,
          190,
          191,
          192,
          193,
          194,
          195,
          196,
          197,
          198,
          199,
          200,
          201,
          202,
          203,
          204,
          205,
          206,
          207,
          208,
          209,
          210,
          211,
          212,
          213,
          214,
          215,
          216,
          217,
          218,
          219,
          220,
          221,
          222,
          223,
          224,
          225
         ],
         "y": [
          1005,
          256,
          1250,
          723,
          1010,
          1331,
          695,
          2926,
          117,
          2591,
          457,
          244,
          352,
          744,
          722,
          429,
          452,
          66,
          1462,
          317,
          1340,
          1142,
          2298,
          1221,
          1878,
          1886,
          251,
          940,
          340,
          1290,
          523,
          2262,
          395,
          1323,
          797,
          821,
          2449,
          767,
          888,
          819,
          1707,
          804,
          1401,
          104,
          1592,
          632,
          1324,
          1823,
          1818,
          1633,
          772,
          967,
          1955,
          1086,
          583,
          1108,
          753,
          892,
          1495,
          1099,
          214,
          875,
          1233,
          2174,
          1337,
          2754,
          528,
          846,
          942,
          186,
          1407,
          1073,
          1040,
          1210,
          1331,
          1567,
          1209,
          1616,
          1411,
          617,
          1493,
          803,
          819,
          919,
          866,
          786,
          1417,
          57,
          1527,
          443,
          2249,
          647,
          1114,
          862,
          1907,
          495,
          1096,
          1789,
          671,
          611,
          1763,
          623,
          911,
          1171,
          193,
          1898,
          129,
          545,
          293,
          927,
          142,
          599,
          718,
          214,
          422,
          122,
          111,
          172,
          61,
          90,
          81,
          110,
          40,
          86,
          40,
          99,
          50,
          80,
          70,
          84,
          59,
          78,
          162,
          98,
          130,
          116,
          114,
          116,
          120,
          117,
          116,
          117,
          114,
          121,
          116,
          117,
          118,
          116,
          114,
          117,
          118,
          114,
          117,
          119,
          119,
          115,
          114,
          119,
          117,
          121,
          116,
          116,
          114,
          118,
          116,
          115,
          114,
          117,
          115,
          121,
          120,
          117,
          121,
          119,
          120,
          114,
          115,
          116,
          114,
          119,
          114,
          121,
          116,
          118,
          117,
          118,
          119,
          119,
          120,
          115,
          116,
          114,
          117,
          117,
          118,
          118,
          121,
          120,
          118,
          117,
          117,
          120,
          115,
          119,
          115,
          119,
          121,
          119,
          118,
          117,
          120,
          121,
          117,
          119,
          121,
          119,
          114,
          118,
          115,
          115,
          120,
          119,
          116,
          121,
          117,
          119
         ]
        },
        {
         "mode": "lines",
         "name": "Lista",
         "type": "scatter",
         "x": [
          0,
          1,
          2,
          3,
          4,
          5,
          6,
          7,
          8,
          9,
          10,
          11,
          12,
          13,
          14,
          15,
          16,
          17,
          18,
          19,
          20,
          21,
          22,
          23,
          24,
          25,
          26,
          27,
          28,
          29,
          30,
          31,
          32,
          33,
          34,
          35,
          36,
          37,
          38,
          39,
          40,
          41,
          42,
          43,
          44,
          45,
          46,
          47,
          48,
          49,
          50,
          51,
          52,
          53,
          54,
          55,
          56,
          57,
          58,
          59,
          60,
          61,
          62,
          63,
          64,
          65,
          66,
          67,
          68,
          69,
          70,
          71,
          72,
          73,
          74,
          75,
          76,
          77,
          78,
          79,
          80,
          81,
          82,
          83,
          84,
          85,
          86,
          87,
          88,
          89,
          90,
          91,
          92,
          93,
          94,
          95,
          96,
          97,
          98,
          99,
          100,
          101,
          102,
          103,
          104,
          105,
          106,
          107,
          108,
          109,
          110,
          111,
          112,
          113,
          114,
          115,
          116,
          117,
          118,
          119,
          120,
          121,
          122,
          123,
          124,
          125,
          126,
          127,
          128,
          129,
          130,
          131,
          132,
          133,
          134,
          135,
          136,
          137,
          138,
          139,
          140,
          141,
          142,
          143,
          144,
          145,
          146,
          147,
          148,
          149,
          150,
          151,
          152,
          153,
          154,
          155,
          156,
          157,
          158,
          159,
          160,
          161,
          162,
          163,
          164,
          165,
          166,
          167,
          168,
          169,
          170,
          171,
          172,
          173,
          174,
          175
         ],
         "y": [
          283,
          160,
          220,
          518,
          175,
          573,
          381,
          282,
          313,
          333,
          212,
          604,
          411,
          292,
          375,
          411,
          627,
          757,
          397,
          361,
          506,
          153,
          738,
          515,
          573,
          243,
          443,
          509,
          340,
          327,
          572,
          472,
          251,
          532,
          479,
          925,
          277,
          528,
          756,
          752,
          267,
          798,
          608,
          766,
          412,
          380,
          1560,
          200,
          424,
          222,
          399,
          755,
          548,
          313,
          295,
          767,
          588,
          560,
          413,
          505,
          291,
          317,
          744,
          503,
          565,
          194,
          604,
          1130,
          474,
          666,
          229,
          143,
          369,
          664,
          662,
          598,
          943,
          633,
          522,
          430,
          416,
          757,
          695,
          238,
          642,
          420,
          213,
          1030,
          588,
          1099,
          289,
          483,
          382,
          838,
          626,
          282,
          358,
          1055,
          933,
          320,
          689,
          373,
          142,
          633,
          149,
          456,
          361,
          176,
          170,
          110,
          179,
          125,
          146,
          60,
          162,
          129,
          166,
          65,
          194,
          111,
          95,
          90,
          93,
          117,
          78,
          211,
          97,
          157,
          205,
          134,
          59,
          141,
          94,
          99,
          80,
          101,
          87,
          126,
          159,
          73,
          142,
          83,
          132,
          66,
          165,
          55,
          161,
          68,
          108,
          120,
          121,
          118,
          118,
          117,
          118,
          118,
          121,
          116,
          116,
          114,
          120,
          118,
          120,
          117,
          115,
          118,
          118,
          115,
          117,
          114,
          115,
          120,
          117,
          114,
          121,
          119
         ]
        },
        {
         "mode": "lines",
         "name": "Lista",
         "type": "scatter",
         "x": [
          0,
          1,
          2,
          3,
          4,
          5,
          6,
          7,
          8,
          9,
          10,
          11,
          12,
          13,
          14,
          15,
          16,
          17,
          18,
          19,
          20,
          21,
          22,
          23,
          24,
          25,
          26,
          27,
          28,
          29,
          30,
          31,
          32,
          33,
          34,
          35,
          36,
          37,
          38,
          39,
          40,
          41,
          42,
          43,
          44,
          45,
          46,
          47,
          48,
          49,
          50,
          51,
          52,
          53,
          54,
          55,
          56,
          57,
          58,
          59,
          60,
          61,
          62,
          63,
          64,
          65,
          66,
          67,
          68,
          69,
          70,
          71,
          72,
          73,
          74,
          75,
          76,
          77,
          78,
          79,
          80,
          81,
          82,
          83,
          84,
          85,
          86,
          87,
          88,
          89,
          90,
          91,
          92,
          93,
          94,
          95,
          96,
          97,
          98,
          99,
          100,
          101,
          102,
          103,
          104,
          105,
          106,
          107,
          108,
          109,
          110,
          111,
          112,
          113,
          114,
          115,
          116,
          117,
          118,
          119,
          120,
          121,
          122,
          123,
          124,
          125,
          126,
          127,
          128,
          129,
          130,
          131,
          132,
          133,
          134,
          135,
          136,
          137,
          138,
          139,
          140,
          141,
          142,
          143,
          144,
          145,
          146,
          147,
          148,
          149,
          150,
          151,
          152,
          153,
          154,
          155,
          156,
          157,
          158,
          159,
          160,
          161
         ],
         "y": [
          264,
          199,
          241,
          279,
          94,
          630,
          194,
          235,
          68,
          1650,
          521,
          196,
          437,
          62,
          1047,
          133,
          376,
          166,
          1227,
          262,
          559,
          87,
          339,
          287,
          131,
          714,
          310,
          618,
          400,
          694,
          178,
          804,
          439,
          207,
          735,
          205,
          491,
          540,
          990,
          715,
          525,
          413,
          442,
          308,
          384,
          264,
          360,
          1525,
          447,
          173,
          395,
          156,
          566,
          63,
          1357,
          179,
          834,
          494,
          257,
          398,
          325,
          646,
          277,
          671,
          232,
          533,
          1010,
          169,
          333,
          488,
          684,
          919,
          979,
          440,
          350,
          234,
          165,
          1306,
          238,
          417,
          790,
          1117,
          333,
          343,
          397,
          235,
          645,
          125,
          594,
          420,
          110,
          963,
          730,
          425,
          336,
          355,
          242,
          1134,
          166,
          394,
          374,
          358,
          275,
          494,
          600,
          202,
          76,
          177,
          149,
          213,
          164,
          146,
          107,
          171,
          138,
          136,
          86,
          108,
          73,
          85,
          109,
          74,
          136,
          56,
          128,
          78,
          129,
          67,
          105,
          58,
          121,
          116,
          114,
          116,
          115,
          114,
          120,
          115,
          114,
          119,
          119,
          115,
          116,
          118,
          121,
          120,
          120,
          114,
          114,
          114,
          117,
          121,
          119,
          118,
          117,
          118,
          116,
          117,
          120,
          116,
          120,
          115
         ]
        }
       ],
       "layout": {
        "template": {
         "data": {
          "bar": [
           {
            "error_x": {
             "color": "#f2f5fa"
            },
            "error_y": {
             "color": "#f2f5fa"
            },
            "marker": {
             "line": {
              "color": "rgb(17,17,17)",
              "width": 0.5
             },
             "pattern": {
              "fillmode": "overlay",
              "size": 10,
              "solidity": 0.2
             }
            },
            "type": "bar"
           }
          ],
          "barpolar": [
           {
            "marker": {
             "line": {
              "color": "rgb(17,17,17)",
              "width": 0.5
             },
             "pattern": {
              "fillmode": "overlay",
              "size": 10,
              "solidity": 0.2
             }
            },
            "type": "barpolar"
           }
          ],
          "carpet": [
           {
            "aaxis": {
             "endlinecolor": "#A2B1C6",
             "gridcolor": "#506784",
             "linecolor": "#506784",
             "minorgridcolor": "#506784",
             "startlinecolor": "#A2B1C6"
            },
            "baxis": {
             "endlinecolor": "#A2B1C6",
             "gridcolor": "#506784",
             "linecolor": "#506784",
             "minorgridcolor": "#506784",
             "startlinecolor": "#A2B1C6"
            },
            "type": "carpet"
           }
          ],
          "choropleth": [
           {
            "colorbar": {
             "outlinewidth": 0,
             "ticks": ""
            },
            "type": "choropleth"
           }
          ],
          "contour": [
           {
            "colorbar": {
             "outlinewidth": 0,
             "ticks": ""
            },
            "colorscale": [
             [
              0,
              "#0d0887"
             ],
             [
              0.1111111111111111,
              "#46039f"
             ],
             [
              0.2222222222222222,
              "#7201a8"
             ],
             [
              0.3333333333333333,
              "#9c179e"
             ],
             [
              0.4444444444444444,
              "#bd3786"
             ],
             [
              0.5555555555555556,
              "#d8576b"
             ],
             [
              0.6666666666666666,
              "#ed7953"
             ],
             [
              0.7777777777777778,
              "#fb9f3a"
             ],
             [
              0.8888888888888888,
              "#fdca26"
             ],
             [
              1,
              "#f0f921"
             ]
            ],
            "type": "contour"
           }
          ],
          "contourcarpet": [
           {
            "colorbar": {
             "outlinewidth": 0,
             "ticks": ""
            },
            "type": "contourcarpet"
           }
          ],
          "heatmap": [
           {
            "colorbar": {
             "outlinewidth": 0,
             "ticks": ""
            },
            "colorscale": [
             [
              0,
              "#0d0887"
             ],
             [
              0.1111111111111111,
              "#46039f"
             ],
             [
              0.2222222222222222,
              "#7201a8"
             ],
             [
              0.3333333333333333,
              "#9c179e"
             ],
             [
              0.4444444444444444,
              "#bd3786"
             ],
             [
              0.5555555555555556,
              "#d8576b"
             ],
             [
              0.6666666666666666,
              "#ed7953"
             ],
             [
              0.7777777777777778,
              "#fb9f3a"
             ],
             [
              0.8888888888888888,
              "#fdca26"
             ],
             [
              1,
              "#f0f921"
             ]
            ],
            "type": "heatmap"
           }
          ],
          "heatmapgl": [
           {
            "colorbar": {
             "outlinewidth": 0,
             "ticks": ""
            },
            "colorscale": [
             [
              0,
              "#0d0887"
             ],
             [
              0.1111111111111111,
              "#46039f"
             ],
             [
              0.2222222222222222,
              "#7201a8"
             ],
             [
              0.3333333333333333,
              "#9c179e"
             ],
             [
              0.4444444444444444,
              "#bd3786"
             ],
             [
              0.5555555555555556,
              "#d8576b"
             ],
             [
              0.6666666666666666,
              "#ed7953"
             ],
             [
              0.7777777777777778,
              "#fb9f3a"
             ],
             [
              0.8888888888888888,
              "#fdca26"
             ],
             [
              1,
              "#f0f921"
             ]
            ],
            "type": "heatmapgl"
           }
          ],
          "histogram": [
           {
            "marker": {
             "pattern": {
              "fillmode": "overlay",
              "size": 10,
              "solidity": 0.2
             }
            },
            "type": "histogram"
           }
          ],
          "histogram2d": [
           {
            "colorbar": {
             "outlinewidth": 0,
             "ticks": ""
            },
            "colorscale": [
             [
              0,
              "#0d0887"
             ],
             [
              0.1111111111111111,
              "#46039f"
             ],
             [
              0.2222222222222222,
              "#7201a8"
             ],
             [
              0.3333333333333333,
              "#9c179e"
             ],
             [
              0.4444444444444444,
              "#bd3786"
             ],
             [
              0.5555555555555556,
              "#d8576b"
             ],
             [
              0.6666666666666666,
              "#ed7953"
             ],
             [
              0.7777777777777778,
              "#fb9f3a"
             ],
             [
              0.8888888888888888,
              "#fdca26"
             ],
             [
              1,
              "#f0f921"
             ]
            ],
            "type": "histogram2d"
           }
          ],
          "histogram2dcontour": [
           {
            "colorbar": {
             "outlinewidth": 0,
             "ticks": ""
            },
            "colorscale": [
             [
              0,
              "#0d0887"
             ],
             [
              0.1111111111111111,
              "#46039f"
             ],
             [
              0.2222222222222222,
              "#7201a8"
             ],
             [
              0.3333333333333333,
              "#9c179e"
             ],
             [
              0.4444444444444444,
              "#bd3786"
             ],
             [
              0.5555555555555556,
              "#d8576b"
             ],
             [
              0.6666666666666666,
              "#ed7953"
             ],
             [
              0.7777777777777778,
              "#fb9f3a"
             ],
             [
              0.8888888888888888,
              "#fdca26"
             ],
             [
              1,
              "#f0f921"
             ]
            ],
            "type": "histogram2dcontour"
           }
          ],
          "mesh3d": [
           {
            "colorbar": {
             "outlinewidth": 0,
             "ticks": ""
            },
            "type": "mesh3d"
           }
          ],
          "parcoords": [
           {
            "line": {
             "colorbar": {
              "outlinewidth": 0,
              "ticks": ""
             }
            },
            "type": "parcoords"
           }
          ],
          "pie": [
           {
            "automargin": true,
            "type": "pie"
           }
          ],
          "scatter": [
           {
            "marker": {
             "line": {
              "color": "#283442"
             }
            },
            "type": "scatter"
           }
          ],
          "scatter3d": [
           {
            "line": {
             "colorbar": {
              "outlinewidth": 0,
              "ticks": ""
             }
            },
            "marker": {
             "colorbar": {
              "outlinewidth": 0,
              "ticks": ""
             }
            },
            "type": "scatter3d"
           }
          ],
          "scattercarpet": [
           {
            "marker": {
             "colorbar": {
              "outlinewidth": 0,
              "ticks": ""
             }
            },
            "type": "scattercarpet"
           }
          ],
          "scattergeo": [
           {
            "marker": {
             "colorbar": {
              "outlinewidth": 0,
              "ticks": ""
             }
            },
            "type": "scattergeo"
           }
          ],
          "scattergl": [
           {
            "marker": {
             "line": {
              "color": "#283442"
             }
            },
            "type": "scattergl"
           }
          ],
          "scattermapbox": [
           {
            "marker": {
             "colorbar": {
              "outlinewidth": 0,
              "ticks": ""
             }
            },
            "type": "scattermapbox"
           }
          ],
          "scatterpolar": [
           {
            "marker": {
             "colorbar": {
              "outlinewidth": 0,
              "ticks": ""
             }
            },
            "type": "scatterpolar"
           }
          ],
          "scatterpolargl": [
           {
            "marker": {
             "colorbar": {
              "outlinewidth": 0,
              "ticks": ""
             }
            },
            "type": "scatterpolargl"
           }
          ],
          "scatterternary": [
           {
            "marker": {
             "colorbar": {
              "outlinewidth": 0,
              "ticks": ""
             }
            },
            "type": "scatterternary"
           }
          ],
          "surface": [
           {
            "colorbar": {
             "outlinewidth": 0,
             "ticks": ""
            },
            "colorscale": [
             [
              0,
              "#0d0887"
             ],
             [
              0.1111111111111111,
              "#46039f"
             ],
             [
              0.2222222222222222,
              "#7201a8"
             ],
             [
              0.3333333333333333,
              "#9c179e"
             ],
             [
              0.4444444444444444,
              "#bd3786"
             ],
             [
              0.5555555555555556,
              "#d8576b"
             ],
             [
              0.6666666666666666,
              "#ed7953"
             ],
             [
              0.7777777777777778,
              "#fb9f3a"
             ],
             [
              0.8888888888888888,
              "#fdca26"
             ],
             [
              1,
              "#f0f921"
             ]
            ],
            "type": "surface"
           }
          ],
          "table": [
           {
            "cells": {
             "fill": {
              "color": "#506784"
             },
             "line": {
              "color": "rgb(17,17,17)"
             }
            },
            "header": {
             "fill": {
              "color": "#2a3f5f"
             },
             "line": {
              "color": "rgb(17,17,17)"
             }
            },
            "type": "table"
           }
          ]
         },
         "layout": {
          "annotationdefaults": {
           "arrowcolor": "#f2f5fa",
           "arrowhead": 0,
           "arrowwidth": 1
          },
          "autotypenumbers": "strict",
          "coloraxis": {
           "colorbar": {
            "outlinewidth": 0,
            "ticks": ""
           }
          },
          "colorscale": {
           "diverging": [
            [
             0,
             "#8e0152"
            ],
            [
             0.1,
             "#c51b7d"
            ],
            [
             0.2,
             "#de77ae"
            ],
            [
             0.3,
             "#f1b6da"
            ],
            [
             0.4,
             "#fde0ef"
            ],
            [
             0.5,
             "#f7f7f7"
            ],
            [
             0.6,
             "#e6f5d0"
            ],
            [
             0.7,
             "#b8e186"
            ],
            [
             0.8,
             "#7fbc41"
            ],
            [
             0.9,
             "#4d9221"
            ],
            [
             1,
             "#276419"
            ]
           ],
           "sequential": [
            [
             0,
             "#0d0887"
            ],
            [
             0.1111111111111111,
             "#46039f"
            ],
            [
             0.2222222222222222,
             "#7201a8"
            ],
            [
             0.3333333333333333,
             "#9c179e"
            ],
            [
             0.4444444444444444,
             "#bd3786"
            ],
            [
             0.5555555555555556,
             "#d8576b"
            ],
            [
             0.6666666666666666,
             "#ed7953"
            ],
            [
             0.7777777777777778,
             "#fb9f3a"
            ],
            [
             0.8888888888888888,
             "#fdca26"
            ],
            [
             1,
             "#f0f921"
            ]
           ],
           "sequentialminus": [
            [
             0,
             "#0d0887"
            ],
            [
             0.1111111111111111,
             "#46039f"
            ],
            [
             0.2222222222222222,
             "#7201a8"
            ],
            [
             0.3333333333333333,
             "#9c179e"
            ],
            [
             0.4444444444444444,
             "#bd3786"
            ],
            [
             0.5555555555555556,
             "#d8576b"
            ],
            [
             0.6666666666666666,
             "#ed7953"
            ],
            [
             0.7777777777777778,
             "#fb9f3a"
            ],
            [
             0.8888888888888888,
             "#fdca26"
            ],
            [
             1,
             "#f0f921"
            ]
           ]
          },
          "colorway": [
           "#636efa",
           "#EF553B",
           "#00cc96",
           "#ab63fa",
           "#FFA15A",
           "#19d3f3",
           "#FF6692",
           "#B6E880",
           "#FF97FF",
           "#FECB52"
          ],
          "font": {
           "color": "#f2f5fa"
          },
          "geo": {
           "bgcolor": "rgb(17,17,17)",
           "lakecolor": "rgb(17,17,17)",
           "landcolor": "rgb(17,17,17)",
           "showlakes": true,
           "showland": true,
           "subunitcolor": "#506784"
          },
          "hoverlabel": {
           "align": "left"
          },
          "hovermode": "closest",
          "mapbox": {
           "style": "dark"
          },
          "paper_bgcolor": "rgb(17,17,17)",
          "plot_bgcolor": "rgb(17,17,17)",
          "polar": {
           "angularaxis": {
            "gridcolor": "#506784",
            "linecolor": "#506784",
            "ticks": ""
           },
           "bgcolor": "rgb(17,17,17)",
           "radialaxis": {
            "gridcolor": "#506784",
            "linecolor": "#506784",
            "ticks": ""
           }
          },
          "scene": {
           "xaxis": {
            "backgroundcolor": "rgb(17,17,17)",
            "gridcolor": "#506784",
            "gridwidth": 2,
            "linecolor": "#506784",
            "showbackground": true,
            "ticks": "",
            "zerolinecolor": "#C8D4E3"
           },
           "yaxis": {
            "backgroundcolor": "rgb(17,17,17)",
            "gridcolor": "#506784",
            "gridwidth": 2,
            "linecolor": "#506784",
            "showbackground": true,
            "ticks": "",
            "zerolinecolor": "#C8D4E3"
           },
           "zaxis": {
            "backgroundcolor": "rgb(17,17,17)",
            "gridcolor": "#506784",
            "gridwidth": 2,
            "linecolor": "#506784",
            "showbackground": true,
            "ticks": "",
            "zerolinecolor": "#C8D4E3"
           }
          },
          "shapedefaults": {
           "line": {
            "color": "#f2f5fa"
           }
          },
          "sliderdefaults": {
           "bgcolor": "#C8D4E3",
           "bordercolor": "rgb(17,17,17)",
           "borderwidth": 1,
           "tickwidth": 0
          },
          "ternary": {
           "aaxis": {
            "gridcolor": "#506784",
            "linecolor": "#506784",
            "ticks": ""
           },
           "baxis": {
            "gridcolor": "#506784",
            "linecolor": "#506784",
            "ticks": ""
           },
           "bgcolor": "rgb(17,17,17)",
           "caxis": {
            "gridcolor": "#506784",
            "linecolor": "#506784",
            "ticks": ""
           }
          },
          "title": {
           "x": 0.05
          },
          "updatemenudefaults": {
           "bgcolor": "#506784",
           "borderwidth": 0
          },
          "xaxis": {
           "automargin": true,
           "gridcolor": "#283442",
           "linecolor": "#506784",
           "ticks": "",
           "title": {
            "standoff": 15
           },
           "zerolinecolor": "#283442",
           "zerolinewidth": 2
          },
          "yaxis": {
           "automargin": true,
           "gridcolor": "#283442",
           "linecolor": "#506784",
           "ticks": "",
           "title": {
            "standoff": 15
           },
           "zerolinecolor": "#283442",
           "zerolinewidth": 2
          }
         }
        },
        "title": {
         "text": ""
        },
        "xaxis": {
         "title": {
          "text": "Muestras"
         }
        },
        "yaxis": {
         "title": {
          "text": "Valor"
         }
        }
       }
      }
     },
     "metadata": {},
     "output_type": "display_data"
    },
    {
     "name": "stdout",
     "output_type": "stream",
     "text": [
      "9\n"
     ]
    }
   ],
   "source": [
    "import random\n",
    "\n",
    "muestra = random.randint(0,128)\n",
    "graficar_listas(matriz_raw_anular[muestra],matriz_raw_indice[muestra],matriz_raw_medio[muestra])\n",
    "print(muestra)\n"
   ]
  },
  {
   "cell_type": "markdown",
   "metadata": {},
   "source": [
    "### Tratamiento de datos"
   ]
  },
  {
   "cell_type": "code",
   "execution_count": 37,
   "metadata": {},
   "outputs": [],
   "source": [
    "# Utilizo los datos obtenidos de ZEMG V1.1\n",
    "\n",
    "muestras_rango_anular = []\n",
    "muestras_rango_indice = []\n",
    "muestras_rango_medio = []\n",
    "\n",
    "\n",
    "\n",
    "muestras_rango_anular = matriz_raw_anular[:, :-15]\n",
    "muestras_rango_indice = matriz_raw_indice[:, :-15]\n",
    "muestras_rango_medio  = matriz_raw_medio[:, :-15]"
   ]
  },
  {
   "cell_type": "markdown",
   "metadata": {},
   "source": [
    "## Transformada Wavelet"
   ]
  },
  {
   "cell_type": "markdown",
   "metadata": {},
   "source": [
    "### Obtención de coeficientes Wavelet"
   ]
  },
  {
   "cell_type": "code",
   "execution_count": 38,
   "metadata": {},
   "outputs": [
    {
     "name": "stderr",
     "output_type": "stream",
     "text": [
      "c:\\Users\\Isaia\\AppData\\Local\\Programs\\Python\\Python311\\Lib\\site-packages\\pywt\\_multilevel.py:43: UserWarning:\n",
      "\n",
      "Level value of 3 is too high: all coefficients will experience boundary effects.\n",
      "\n"
     ]
    }
   ],
   "source": [
    "\n",
    "coefs_anulares = []\n",
    "coefs_indice = []\n",
    "coefs_medio = []\n",
    "\n",
    "wavelet = 'coif6' \n",
    "nivel_descomposicion = 3  \n",
    "\n",
    "\n",
    "\n",
    "for muestras_rango in muestras_rango_anular:\n",
    "    coeficientes = transformadaWavelet(muestras_rango,wavelet,nivel_descomposicion)\n",
    "    coefs_anulares.append(coeficientes)\n",
    "\n",
    "for muestras_rango in muestras_rango_indice:\n",
    "    coeficientes = transformadaWavelet(muestras_rango,wavelet,nivel_descomposicion)\n",
    "    coefs_indice.append(coeficientes)\n",
    "\n",
    "for muestras_rango in muestras_rango_medio:\n",
    "    coeficientes = transformadaWavelet(muestras_rango,wavelet,nivel_descomposicion)\n",
    "    coefs_medio.append(coeficientes)\n"
   ]
  },
  {
   "cell_type": "markdown",
   "metadata": {},
   "source": [
    "### Gráficos Wavelet"
   ]
  },
  {
   "cell_type": "code",
   "execution_count": null,
   "metadata": {},
   "outputs": [],
   "source": [
    "\n",
    "graficar_coeficientes_subplot(coefs_anulares[0])\n",
    "graficar_coeficientes_subplot(coefs_anulares[1])\n",
    "graficar_coeficientes_subplot(coefs_anulares[2])\n",
    "\n",
    "\n",
    "# graficar_coeficientes(coefs_anulares[0][0],coefs_anulares[1][0],coefs_anulares[2][0])\n",
    "# graficar_coeficientes(coefs_indice[0][0],coefs_indice[1][0],coefs_indice[2][0])\n",
    "# graficar_coeficientes(coefs_medio[0][0],coefs_medio[1][0],coefs_medio[2][0])\n",
    "# graficar_coeficientes(coefs_anulares[0][1],coefs_anulares[1][1],coefs_anulares[2][1])\n"
   ]
  },
  {
   "cell_type": "markdown",
   "metadata": {},
   "source": [
    "### Reconstrucción Wavelet"
   ]
  },
  {
   "cell_type": "code",
   "execution_count": 40,
   "metadata": {
    "tags": []
   },
   "outputs": [
    {
     "data": {
      "application/vnd.plotly.v1+json": {
       "config": {
        "plotlyServerURL": "https://plot.ly"
       },
       "data": [
        {
         "hovertemplate": "<extra></extra>",
         "legendgroup": "",
         "line": {
          "color": "#636efa",
          "dash": "solid"
         },
         "marker": {
          "symbol": "circle"
         },
         "mode": "lines",
         "name": "",
         "orientation": "v",
         "showlegend": false,
         "type": "scatter",
         "xaxis": "x",
         "yaxis": "y"
        },
        {
         "mode": "lines",
         "type": "scatter",
         "y": [
          462.1917508907347,
          367.06763403421235,
          237.74132583621125,
          256.14743902773654,
          364.39343335610295,
          456.0566718105708,
          581.6600388542644,
          775.5704469119615,
          843.7671388703865,
          639.320196204204,
          389.4796323844537,
          348.1504859646777,
          415.15144611898126,
          437.6535950674487,
          466.74476028905536,
          548.0923477301815,
          669.3081863067432,
          822.1719461226512,
          819.2734499895704,
          500.75874421701513,
          250.39174477689255,
          462.79142707797376,
          663.0932620097612,
          340.24901240685716,
          83.75389260956115,
          507.086134083915,
          1008.4922981733937,
          905.9074004906378,
          566.61267099343,
          484.76797183336015,
          503.36320127664703,
          417.7305181034889,
          346.1670211013299,
          377.14668467486996,
          477.1158898706816,
          626.5023957380939,
          688.4806260864262,
          537.7499886059175,
          483.72287711155275,
          822.7982850218141,
          1083.791772490172,
          777.2356677180776,
          405.50612806078624,
          550.1054750162256,
          790.4066169973441,
          624.3741174928114,
          446.3313729932565,
          676.7315560082376,
          943.6408621325791,
          853.2570999096337,
          622.4498784867195,
          533.7748797165203,
          579.3888490911745,
          688.5584133990824,
          771.7101418317081,
          733.7494614166687,
          599.8305901668241,
          464.60532176660087,
          420.0779012361937,
          509.58201107141787,
          654.6225558825096,
          737.4135464239788,
          711.5913889142736,
          600.2577292892274,
          465.4182550991924,
          379.9344512665273,
          454.1973588466152,
          715.7543156427095,
          913.0777642976271,
          815.0580665710488,
          555.2454251561194,
          353.76584971250156,
          280.5218671021061,
          333.6036083132401,
          399.4769797182107,
          346.59560688082075,
          232.86034387571829,
          169.27354531914565,
          143.349874243599,
          118.1937081572711,
          107.56738874782776,
          117.70210300709184,
          125.30985793614532,
          115.79082739568575,
          102.79395048764465,
          100.85869538126575,
          105.00047078541844,
          107.45163006595733,
          105.39418049987319,
          98.06184051335667,
          96.3631116617886,
          109.58407107401153,
          123.00578699871238,
          120.68479862010554,
          108.5452278761977,
          97.77404956573463,
          96.67789160146627,
          109.46334464573314,
          122.36207439828905,
          120.10032662619895,
          112.64620621022664,
          114.26050119113218,
          118.99706944443864,
          118.2720667670447,
          116.18535364675235,
          117.32373382175446,
          118.50335190362013,
          116.90446522664735,
          115.32774604883079,
          116.30633852437953,
          118.00157577572833,
          118.42048710336759,
          117.83204293384257,
          116.78026512291461,
          116.67857952041977,
          118.72926175126663,
          119.6291273104154,
          116.162352909203,
          112.89306757803111,
          114.80850016115602,
          117.6211595855205,
          116.16181296015878,
          114.16084961923764,
          116.06168499042367,
          118.12438250433843,
          116.31006689545859,
          114.65626810405861,
          117.26499908534026,
          119.96178287507766,
          118.44193902460975,
          116.03601408911351,
          116.5147064864127,
          118.55047565606284,
          120.02454840352655,
          119.62735361941374,
          116.77657267337305,
          114.20869115435121,
          114.88844403883033,
          117.37229729051893,
          119.08754778152502,
          119.65781351638815,
          119.31880482379475,
          118.38473475804417,
          117.59465769438317,
          117.12857748887413,
          116.81371667073016,
          117.27278683020262,
          118.78185580927516,
          119.80411952592286,
          119.06214052152711,
          117.26034456664694,
          115.61245135035333,
          115.45826926996686,
          117.51464311333534,
          119.45929007770104,
          118.7749680479543,
          117.28781144002417,
          117.47471958265508,
          117.67075953025507,
          115.95610802473718,
          114.4302352063262,
          115.27880874228069
         ]
        },
        {
         "mode": "lines",
         "type": "scatter",
         "y": [
          546,
          78,
          416,
          236,
          451,
          321,
          538,
          912,
          936,
          296,
          743,
          125,
          494,
          376,
          719,
          276,
          512,
          1290,
          646,
          270,
          494,
          347,
          789,
          157,
          263,
          465,
          762,
          1387,
          106,
          733,
          500,
          212,
          677,
          153,
          336,
          1031,
          411,
          548,
          587,
          657,
          1390,
          366,
          790,
          225,
          1112,
          363,
          500,
          797,
          842,
          935,
          400,
          815,
          511,
          515,
          979,
          628,
          588,
          569,
          280,
          646,
          532,
          803,
          758,
          434,
          692,
          253,
          309,
          1143,
          352,
          1269,
          435,
          215,
          364,
          363,
          468,
          156,
          371,
          134,
          154,
          115,
          64,
          193,
          73,
          141,
          66,
          152,
          71,
          121,
          88,
          125,
          74,
          126,
          102,
          138,
          116,
          74,
          105,
          120,
          117,
          114,
          117,
          115,
          120,
          115,
          117,
          119,
          118,
          116,
          115,
          118,
          117,
          118,
          119,
          116,
          116,
          120,
          120,
          114,
          115,
          114,
          117,
          117,
          115,
          114,
          119,
          117,
          114,
          117,
          121,
          118,
          114,
          120,
          117,
          119,
          121,
          116,
          115,
          114,
          118,
          119,
          119,
          120,
          119,
          116,
          118,
          117,
          117,
          119,
          119,
          121,
          114,
          119,
          114,
          117,
          120,
          119,
          117,
          118,
          116,
          118,
          114
         ]
        }
       ],
       "layout": {
        "legend": {
         "tracegroupgap": 0
        },
        "margin": {
         "t": 60
        },
        "template": {
         "data": {
          "bar": [
           {
            "error_x": {
             "color": "#f2f5fa"
            },
            "error_y": {
             "color": "#f2f5fa"
            },
            "marker": {
             "line": {
              "color": "rgb(17,17,17)",
              "width": 0.5
             },
             "pattern": {
              "fillmode": "overlay",
              "size": 10,
              "solidity": 0.2
             }
            },
            "type": "bar"
           }
          ],
          "barpolar": [
           {
            "marker": {
             "line": {
              "color": "rgb(17,17,17)",
              "width": 0.5
             },
             "pattern": {
              "fillmode": "overlay",
              "size": 10,
              "solidity": 0.2
             }
            },
            "type": "barpolar"
           }
          ],
          "carpet": [
           {
            "aaxis": {
             "endlinecolor": "#A2B1C6",
             "gridcolor": "#506784",
             "linecolor": "#506784",
             "minorgridcolor": "#506784",
             "startlinecolor": "#A2B1C6"
            },
            "baxis": {
             "endlinecolor": "#A2B1C6",
             "gridcolor": "#506784",
             "linecolor": "#506784",
             "minorgridcolor": "#506784",
             "startlinecolor": "#A2B1C6"
            },
            "type": "carpet"
           }
          ],
          "choropleth": [
           {
            "colorbar": {
             "outlinewidth": 0,
             "ticks": ""
            },
            "type": "choropleth"
           }
          ],
          "contour": [
           {
            "colorbar": {
             "outlinewidth": 0,
             "ticks": ""
            },
            "colorscale": [
             [
              0,
              "#0d0887"
             ],
             [
              0.1111111111111111,
              "#46039f"
             ],
             [
              0.2222222222222222,
              "#7201a8"
             ],
             [
              0.3333333333333333,
              "#9c179e"
             ],
             [
              0.4444444444444444,
              "#bd3786"
             ],
             [
              0.5555555555555556,
              "#d8576b"
             ],
             [
              0.6666666666666666,
              "#ed7953"
             ],
             [
              0.7777777777777778,
              "#fb9f3a"
             ],
             [
              0.8888888888888888,
              "#fdca26"
             ],
             [
              1,
              "#f0f921"
             ]
            ],
            "type": "contour"
           }
          ],
          "contourcarpet": [
           {
            "colorbar": {
             "outlinewidth": 0,
             "ticks": ""
            },
            "type": "contourcarpet"
           }
          ],
          "heatmap": [
           {
            "colorbar": {
             "outlinewidth": 0,
             "ticks": ""
            },
            "colorscale": [
             [
              0,
              "#0d0887"
             ],
             [
              0.1111111111111111,
              "#46039f"
             ],
             [
              0.2222222222222222,
              "#7201a8"
             ],
             [
              0.3333333333333333,
              "#9c179e"
             ],
             [
              0.4444444444444444,
              "#bd3786"
             ],
             [
              0.5555555555555556,
              "#d8576b"
             ],
             [
              0.6666666666666666,
              "#ed7953"
             ],
             [
              0.7777777777777778,
              "#fb9f3a"
             ],
             [
              0.8888888888888888,
              "#fdca26"
             ],
             [
              1,
              "#f0f921"
             ]
            ],
            "type": "heatmap"
           }
          ],
          "heatmapgl": [
           {
            "colorbar": {
             "outlinewidth": 0,
             "ticks": ""
            },
            "colorscale": [
             [
              0,
              "#0d0887"
             ],
             [
              0.1111111111111111,
              "#46039f"
             ],
             [
              0.2222222222222222,
              "#7201a8"
             ],
             [
              0.3333333333333333,
              "#9c179e"
             ],
             [
              0.4444444444444444,
              "#bd3786"
             ],
             [
              0.5555555555555556,
              "#d8576b"
             ],
             [
              0.6666666666666666,
              "#ed7953"
             ],
             [
              0.7777777777777778,
              "#fb9f3a"
             ],
             [
              0.8888888888888888,
              "#fdca26"
             ],
             [
              1,
              "#f0f921"
             ]
            ],
            "type": "heatmapgl"
           }
          ],
          "histogram": [
           {
            "marker": {
             "pattern": {
              "fillmode": "overlay",
              "size": 10,
              "solidity": 0.2
             }
            },
            "type": "histogram"
           }
          ],
          "histogram2d": [
           {
            "colorbar": {
             "outlinewidth": 0,
             "ticks": ""
            },
            "colorscale": [
             [
              0,
              "#0d0887"
             ],
             [
              0.1111111111111111,
              "#46039f"
             ],
             [
              0.2222222222222222,
              "#7201a8"
             ],
             [
              0.3333333333333333,
              "#9c179e"
             ],
             [
              0.4444444444444444,
              "#bd3786"
             ],
             [
              0.5555555555555556,
              "#d8576b"
             ],
             [
              0.6666666666666666,
              "#ed7953"
             ],
             [
              0.7777777777777778,
              "#fb9f3a"
             ],
             [
              0.8888888888888888,
              "#fdca26"
             ],
             [
              1,
              "#f0f921"
             ]
            ],
            "type": "histogram2d"
           }
          ],
          "histogram2dcontour": [
           {
            "colorbar": {
             "outlinewidth": 0,
             "ticks": ""
            },
            "colorscale": [
             [
              0,
              "#0d0887"
             ],
             [
              0.1111111111111111,
              "#46039f"
             ],
             [
              0.2222222222222222,
              "#7201a8"
             ],
             [
              0.3333333333333333,
              "#9c179e"
             ],
             [
              0.4444444444444444,
              "#bd3786"
             ],
             [
              0.5555555555555556,
              "#d8576b"
             ],
             [
              0.6666666666666666,
              "#ed7953"
             ],
             [
              0.7777777777777778,
              "#fb9f3a"
             ],
             [
              0.8888888888888888,
              "#fdca26"
             ],
             [
              1,
              "#f0f921"
             ]
            ],
            "type": "histogram2dcontour"
           }
          ],
          "mesh3d": [
           {
            "colorbar": {
             "outlinewidth": 0,
             "ticks": ""
            },
            "type": "mesh3d"
           }
          ],
          "parcoords": [
           {
            "line": {
             "colorbar": {
              "outlinewidth": 0,
              "ticks": ""
             }
            },
            "type": "parcoords"
           }
          ],
          "pie": [
           {
            "automargin": true,
            "type": "pie"
           }
          ],
          "scatter": [
           {
            "marker": {
             "line": {
              "color": "#283442"
             }
            },
            "type": "scatter"
           }
          ],
          "scatter3d": [
           {
            "line": {
             "colorbar": {
              "outlinewidth": 0,
              "ticks": ""
             }
            },
            "marker": {
             "colorbar": {
              "outlinewidth": 0,
              "ticks": ""
             }
            },
            "type": "scatter3d"
           }
          ],
          "scattercarpet": [
           {
            "marker": {
             "colorbar": {
              "outlinewidth": 0,
              "ticks": ""
             }
            },
            "type": "scattercarpet"
           }
          ],
          "scattergeo": [
           {
            "marker": {
             "colorbar": {
              "outlinewidth": 0,
              "ticks": ""
             }
            },
            "type": "scattergeo"
           }
          ],
          "scattergl": [
           {
            "marker": {
             "line": {
              "color": "#283442"
             }
            },
            "type": "scattergl"
           }
          ],
          "scattermapbox": [
           {
            "marker": {
             "colorbar": {
              "outlinewidth": 0,
              "ticks": ""
             }
            },
            "type": "scattermapbox"
           }
          ],
          "scatterpolar": [
           {
            "marker": {
             "colorbar": {
              "outlinewidth": 0,
              "ticks": ""
             }
            },
            "type": "scatterpolar"
           }
          ],
          "scatterpolargl": [
           {
            "marker": {
             "colorbar": {
              "outlinewidth": 0,
              "ticks": ""
             }
            },
            "type": "scatterpolargl"
           }
          ],
          "scatterternary": [
           {
            "marker": {
             "colorbar": {
              "outlinewidth": 0,
              "ticks": ""
             }
            },
            "type": "scatterternary"
           }
          ],
          "surface": [
           {
            "colorbar": {
             "outlinewidth": 0,
             "ticks": ""
            },
            "colorscale": [
             [
              0,
              "#0d0887"
             ],
             [
              0.1111111111111111,
              "#46039f"
             ],
             [
              0.2222222222222222,
              "#7201a8"
             ],
             [
              0.3333333333333333,
              "#9c179e"
             ],
             [
              0.4444444444444444,
              "#bd3786"
             ],
             [
              0.5555555555555556,
              "#d8576b"
             ],
             [
              0.6666666666666666,
              "#ed7953"
             ],
             [
              0.7777777777777778,
              "#fb9f3a"
             ],
             [
              0.8888888888888888,
              "#fdca26"
             ],
             [
              1,
              "#f0f921"
             ]
            ],
            "type": "surface"
           }
          ],
          "table": [
           {
            "cells": {
             "fill": {
              "color": "#506784"
             },
             "line": {
              "color": "rgb(17,17,17)"
             }
            },
            "header": {
             "fill": {
              "color": "#2a3f5f"
             },
             "line": {
              "color": "rgb(17,17,17)"
             }
            },
            "type": "table"
           }
          ]
         },
         "layout": {
          "annotationdefaults": {
           "arrowcolor": "#f2f5fa",
           "arrowhead": 0,
           "arrowwidth": 1
          },
          "autotypenumbers": "strict",
          "coloraxis": {
           "colorbar": {
            "outlinewidth": 0,
            "ticks": ""
           }
          },
          "colorscale": {
           "diverging": [
            [
             0,
             "#8e0152"
            ],
            [
             0.1,
             "#c51b7d"
            ],
            [
             0.2,
             "#de77ae"
            ],
            [
             0.3,
             "#f1b6da"
            ],
            [
             0.4,
             "#fde0ef"
            ],
            [
             0.5,
             "#f7f7f7"
            ],
            [
             0.6,
             "#e6f5d0"
            ],
            [
             0.7,
             "#b8e186"
            ],
            [
             0.8,
             "#7fbc41"
            ],
            [
             0.9,
             "#4d9221"
            ],
            [
             1,
             "#276419"
            ]
           ],
           "sequential": [
            [
             0,
             "#0d0887"
            ],
            [
             0.1111111111111111,
             "#46039f"
            ],
            [
             0.2222222222222222,
             "#7201a8"
            ],
            [
             0.3333333333333333,
             "#9c179e"
            ],
            [
             0.4444444444444444,
             "#bd3786"
            ],
            [
             0.5555555555555556,
             "#d8576b"
            ],
            [
             0.6666666666666666,
             "#ed7953"
            ],
            [
             0.7777777777777778,
             "#fb9f3a"
            ],
            [
             0.8888888888888888,
             "#fdca26"
            ],
            [
             1,
             "#f0f921"
            ]
           ],
           "sequentialminus": [
            [
             0,
             "#0d0887"
            ],
            [
             0.1111111111111111,
             "#46039f"
            ],
            [
             0.2222222222222222,
             "#7201a8"
            ],
            [
             0.3333333333333333,
             "#9c179e"
            ],
            [
             0.4444444444444444,
             "#bd3786"
            ],
            [
             0.5555555555555556,
             "#d8576b"
            ],
            [
             0.6666666666666666,
             "#ed7953"
            ],
            [
             0.7777777777777778,
             "#fb9f3a"
            ],
            [
             0.8888888888888888,
             "#fdca26"
            ],
            [
             1,
             "#f0f921"
            ]
           ]
          },
          "colorway": [
           "#636efa",
           "#EF553B",
           "#00cc96",
           "#ab63fa",
           "#FFA15A",
           "#19d3f3",
           "#FF6692",
           "#B6E880",
           "#FF97FF",
           "#FECB52"
          ],
          "font": {
           "color": "#f2f5fa"
          },
          "geo": {
           "bgcolor": "rgb(17,17,17)",
           "lakecolor": "rgb(17,17,17)",
           "landcolor": "rgb(17,17,17)",
           "showlakes": true,
           "showland": true,
           "subunitcolor": "#506784"
          },
          "hoverlabel": {
           "align": "left"
          },
          "hovermode": "closest",
          "mapbox": {
           "style": "dark"
          },
          "paper_bgcolor": "rgb(17,17,17)",
          "plot_bgcolor": "rgb(17,17,17)",
          "polar": {
           "angularaxis": {
            "gridcolor": "#506784",
            "linecolor": "#506784",
            "ticks": ""
           },
           "bgcolor": "rgb(17,17,17)",
           "radialaxis": {
            "gridcolor": "#506784",
            "linecolor": "#506784",
            "ticks": ""
           }
          },
          "scene": {
           "xaxis": {
            "backgroundcolor": "rgb(17,17,17)",
            "gridcolor": "#506784",
            "gridwidth": 2,
            "linecolor": "#506784",
            "showbackground": true,
            "ticks": "",
            "zerolinecolor": "#C8D4E3"
           },
           "yaxis": {
            "backgroundcolor": "rgb(17,17,17)",
            "gridcolor": "#506784",
            "gridwidth": 2,
            "linecolor": "#506784",
            "showbackground": true,
            "ticks": "",
            "zerolinecolor": "#C8D4E3"
           },
           "zaxis": {
            "backgroundcolor": "rgb(17,17,17)",
            "gridcolor": "#506784",
            "gridwidth": 2,
            "linecolor": "#506784",
            "showbackground": true,
            "ticks": "",
            "zerolinecolor": "#C8D4E3"
           }
          },
          "shapedefaults": {
           "line": {
            "color": "#f2f5fa"
           }
          },
          "sliderdefaults": {
           "bgcolor": "#C8D4E3",
           "bordercolor": "rgb(17,17,17)",
           "borderwidth": 1,
           "tickwidth": 0
          },
          "ternary": {
           "aaxis": {
            "gridcolor": "#506784",
            "linecolor": "#506784",
            "ticks": ""
           },
           "baxis": {
            "gridcolor": "#506784",
            "linecolor": "#506784",
            "ticks": ""
           },
           "bgcolor": "rgb(17,17,17)",
           "caxis": {
            "gridcolor": "#506784",
            "linecolor": "#506784",
            "ticks": ""
           }
          },
          "title": {
           "x": 0.05
          },
          "updatemenudefaults": {
           "bgcolor": "#506784",
           "borderwidth": 0
          },
          "xaxis": {
           "automargin": true,
           "gridcolor": "#283442",
           "linecolor": "#506784",
           "ticks": "",
           "title": {
            "standoff": 15
           },
           "zerolinecolor": "#283442",
           "zerolinewidth": 2
          },
          "yaxis": {
           "automargin": true,
           "gridcolor": "#283442",
           "linecolor": "#506784",
           "ticks": "",
           "title": {
            "standoff": 15
           },
           "zerolinecolor": "#283442",
           "zerolinewidth": 2
          }
         }
        },
        "xaxis": {
         "anchor": "y",
         "domain": [
          0,
          1
         ]
        },
        "yaxis": {
         "anchor": "x",
         "domain": [
          0,
          1
         ]
        }
       }
      }
     },
     "metadata": {},
     "output_type": "display_data"
    },
    {
     "data": {
      "application/vnd.plotly.v1+json": {
       "config": {
        "plotlyServerURL": "https://plot.ly"
       },
       "data": [
        {
         "hovertemplate": "<extra></extra>",
         "legendgroup": "",
         "line": {
          "color": "#636efa",
          "dash": "solid"
         },
         "marker": {
          "symbol": "circle"
         },
         "mode": "lines",
         "name": "",
         "orientation": "v",
         "showlegend": false,
         "type": "scatter",
         "xaxis": "x",
         "yaxis": "y"
        },
        {
         "mode": "lines",
         "type": "scatter",
         "y": [
          453.0181600050773,
          339.5235479191562,
          212.20785236820825,
          234.33999993736447,
          323.6937072314295,
          361.8587803383677,
          327.1328951966023,
          228.2682429769939,
          192.21542960088013,
          333.7465658344909,
          456.2504092727549,
          347.51534697594394,
          200.77834072194344,
          251.54744701932563,
          354.5466279842603,
          326.40277428524297,
          291.40835888089896,
          380.77892951966174,
          469.3102658057947,
          436.4993586584229,
          356.7426189491601,
          318.5655193030213,
          351.9599255449875,
          460.86833637822787,
          517.1760528407865,
          404.0524287536134,
          294.64277429778974,
          384.31594920034115,
          522.43234396315,
          504.13678461368846,
          442.0058512222108,
          493.4695364987811,
          481.74059545990417,
          247.60847229933492,
          151.48630516716779,
          508.07630486608514,
          868.6294185738737,
          752.6213555067387,
          466.63383446802163,
          424.7575640252858,
          491.28188991960263,
          467.24887780267596,
          457.53779188257334,
          550.7717857422482,
          652.9143799533196,
          679.622155643176,
          618.7666275040143,
          485.41797259931724,
          373.0817560432056,
          373.3941106958177,
          422.9266263453776,
          430.5325780577133,
          435.5561413993063,
          478.283631226128,
          521.5339442769559,
          546.1082063938404,
          489.2216326868375,
          306.50228455542566,
          280.8318346818196,
          641.0632522600571,
          912.3875509272583,
          621.6483985269804,
          204.75576588608874,
          215.44811787270797,
          431.2146229534271,
          495.92556466158993,
          607.673238596897,
          954.7549135698548,
          1110.6375620188367,
          744.4912283311648,
          349.6364898674484,
          418.87109274578455,
          740.6932837065407,
          977.2254946207061,
          886.6978595790936,
          367.03996210510803,
          8.4249816264151,
          384.1888109228951,
          903.33200828424,
          830.5547239239127,
          499.5499322827341,
          414.86918662314383,
          414.939058252206,
          291.4259753189151,
          210.52999538613167,
          298.50869508107354,
          430.3236559802012,
          480.32399173652993,
          422.18504752440407,
          270.1152673456578,
          130.71324736778743,
          112.5033589268943,
          155.07455803401876,
          158.4403173763573,
          142.97571740109555,
          148.43354797617792,
          155.79801609824247,
          148.2080212548063,
          127.99483760728221,
          97.54764097499223,
          75.57277549368628,
          80.72023249611355,
          92.51262679242011,
          85.06956635650799,
          75.38227498555538,
          85.48131072684053,
          96.43871135742828,
          88.73993735481633,
          85.34750693546805,
          108.09871357386116,
          136.19659222546545,
          144.7682985132668,
          137.72382624779425,
          126.10847520836062,
          113.39695846109531,
          103.35640239130969,
          102.83599947000376,
          113.42981327257696,
          123.49729871398989,
          122.13814117748912,
          116.47125389622366,
          116.68411160299408,
          118.95521712997923,
          117.61620948131282,
          115.83799898202822,
          116.8629086989132,
          118.47441890454903,
          118.58322106974136,
          117.8240316700499,
          116.9485934543268,
          116.78114808184564,
          117.99100856954978,
          118.5038083461851,
          116.29782754287095,
          114.10561300810787,
          115.07165887782747,
          117.13865751003057,
          117.4716542917834,
          117.69529423393942,
          119.64925449840052,
          120.59234122715979,
          118.11955430421658,
          115.44551975233352,
          115.96727250870086,
          117.73037337238249,
          118.04210596199607,
          117.68047341327409,
          117.78970490092745,
          117.7417268630666,
          117.15121357045666
         ]
        },
        {
         "mode": "lines",
         "type": "scatter",
         "y": [
          454,
          293,
          200,
          277,
          392,
          189,
          469,
          122,
          375,
          66,
          710,
          178,
          270,
          280,
          246,
          461,
          194,
          468,
          304,
          658,
          187,
          417,
          265,
          606,
          260,
          662,
          266,
          238,
          534,
          613,
          529,
          262,
          496,
          392,
          268,
          52,
          1388,
          314,
          852,
          134,
          593,
          541,
          297,
          812,
          206,
          1264,
          55,
          937,
          44,
          622,
          183,
          620,
          415,
          417,
          427,
          841,
          163,
          471,
          401,
          261,
          1400,
          202,
          423,
          161,
          471,
          556,
          211,
          1636,
          433,
          1141,
          387,
          283,
          354,
          1789,
          375,
          359,
          179,
          305,
          840,
          967,
          463,
          344,
          402,
          398,
          189,
          309,
          161,
          910,
          228,
          189,
          180,
          186,
          106,
          174,
          46,
          310,
          49,
          165,
          152,
          77,
          70,
          101,
          97,
          51,
          106,
          68,
          119,
          51,
          135,
          53,
          189,
          107,
          149,
          128,
          128,
          74,
          117,
          119,
          120,
          117,
          120,
          118,
          117,
          119,
          114,
          118,
          120,
          115,
          121,
          116,
          115,
          121,
          117,
          116,
          114,
          116,
          117,
          117,
          117,
          121,
          121,
          116,
          117,
          115,
          120,
          115,
          119
         ]
        }
       ],
       "layout": {
        "legend": {
         "tracegroupgap": 0
        },
        "margin": {
         "t": 60
        },
        "template": {
         "data": {
          "bar": [
           {
            "error_x": {
             "color": "#f2f5fa"
            },
            "error_y": {
             "color": "#f2f5fa"
            },
            "marker": {
             "line": {
              "color": "rgb(17,17,17)",
              "width": 0.5
             },
             "pattern": {
              "fillmode": "overlay",
              "size": 10,
              "solidity": 0.2
             }
            },
            "type": "bar"
           }
          ],
          "barpolar": [
           {
            "marker": {
             "line": {
              "color": "rgb(17,17,17)",
              "width": 0.5
             },
             "pattern": {
              "fillmode": "overlay",
              "size": 10,
              "solidity": 0.2
             }
            },
            "type": "barpolar"
           }
          ],
          "carpet": [
           {
            "aaxis": {
             "endlinecolor": "#A2B1C6",
             "gridcolor": "#506784",
             "linecolor": "#506784",
             "minorgridcolor": "#506784",
             "startlinecolor": "#A2B1C6"
            },
            "baxis": {
             "endlinecolor": "#A2B1C6",
             "gridcolor": "#506784",
             "linecolor": "#506784",
             "minorgridcolor": "#506784",
             "startlinecolor": "#A2B1C6"
            },
            "type": "carpet"
           }
          ],
          "choropleth": [
           {
            "colorbar": {
             "outlinewidth": 0,
             "ticks": ""
            },
            "type": "choropleth"
           }
          ],
          "contour": [
           {
            "colorbar": {
             "outlinewidth": 0,
             "ticks": ""
            },
            "colorscale": [
             [
              0,
              "#0d0887"
             ],
             [
              0.1111111111111111,
              "#46039f"
             ],
             [
              0.2222222222222222,
              "#7201a8"
             ],
             [
              0.3333333333333333,
              "#9c179e"
             ],
             [
              0.4444444444444444,
              "#bd3786"
             ],
             [
              0.5555555555555556,
              "#d8576b"
             ],
             [
              0.6666666666666666,
              "#ed7953"
             ],
             [
              0.7777777777777778,
              "#fb9f3a"
             ],
             [
              0.8888888888888888,
              "#fdca26"
             ],
             [
              1,
              "#f0f921"
             ]
            ],
            "type": "contour"
           }
          ],
          "contourcarpet": [
           {
            "colorbar": {
             "outlinewidth": 0,
             "ticks": ""
            },
            "type": "contourcarpet"
           }
          ],
          "heatmap": [
           {
            "colorbar": {
             "outlinewidth": 0,
             "ticks": ""
            },
            "colorscale": [
             [
              0,
              "#0d0887"
             ],
             [
              0.1111111111111111,
              "#46039f"
             ],
             [
              0.2222222222222222,
              "#7201a8"
             ],
             [
              0.3333333333333333,
              "#9c179e"
             ],
             [
              0.4444444444444444,
              "#bd3786"
             ],
             [
              0.5555555555555556,
              "#d8576b"
             ],
             [
              0.6666666666666666,
              "#ed7953"
             ],
             [
              0.7777777777777778,
              "#fb9f3a"
             ],
             [
              0.8888888888888888,
              "#fdca26"
             ],
             [
              1,
              "#f0f921"
             ]
            ],
            "type": "heatmap"
           }
          ],
          "heatmapgl": [
           {
            "colorbar": {
             "outlinewidth": 0,
             "ticks": ""
            },
            "colorscale": [
             [
              0,
              "#0d0887"
             ],
             [
              0.1111111111111111,
              "#46039f"
             ],
             [
              0.2222222222222222,
              "#7201a8"
             ],
             [
              0.3333333333333333,
              "#9c179e"
             ],
             [
              0.4444444444444444,
              "#bd3786"
             ],
             [
              0.5555555555555556,
              "#d8576b"
             ],
             [
              0.6666666666666666,
              "#ed7953"
             ],
             [
              0.7777777777777778,
              "#fb9f3a"
             ],
             [
              0.8888888888888888,
              "#fdca26"
             ],
             [
              1,
              "#f0f921"
             ]
            ],
            "type": "heatmapgl"
           }
          ],
          "histogram": [
           {
            "marker": {
             "pattern": {
              "fillmode": "overlay",
              "size": 10,
              "solidity": 0.2
             }
            },
            "type": "histogram"
           }
          ],
          "histogram2d": [
           {
            "colorbar": {
             "outlinewidth": 0,
             "ticks": ""
            },
            "colorscale": [
             [
              0,
              "#0d0887"
             ],
             [
              0.1111111111111111,
              "#46039f"
             ],
             [
              0.2222222222222222,
              "#7201a8"
             ],
             [
              0.3333333333333333,
              "#9c179e"
             ],
             [
              0.4444444444444444,
              "#bd3786"
             ],
             [
              0.5555555555555556,
              "#d8576b"
             ],
             [
              0.6666666666666666,
              "#ed7953"
             ],
             [
              0.7777777777777778,
              "#fb9f3a"
             ],
             [
              0.8888888888888888,
              "#fdca26"
             ],
             [
              1,
              "#f0f921"
             ]
            ],
            "type": "histogram2d"
           }
          ],
          "histogram2dcontour": [
           {
            "colorbar": {
             "outlinewidth": 0,
             "ticks": ""
            },
            "colorscale": [
             [
              0,
              "#0d0887"
             ],
             [
              0.1111111111111111,
              "#46039f"
             ],
             [
              0.2222222222222222,
              "#7201a8"
             ],
             [
              0.3333333333333333,
              "#9c179e"
             ],
             [
              0.4444444444444444,
              "#bd3786"
             ],
             [
              0.5555555555555556,
              "#d8576b"
             ],
             [
              0.6666666666666666,
              "#ed7953"
             ],
             [
              0.7777777777777778,
              "#fb9f3a"
             ],
             [
              0.8888888888888888,
              "#fdca26"
             ],
             [
              1,
              "#f0f921"
             ]
            ],
            "type": "histogram2dcontour"
           }
          ],
          "mesh3d": [
           {
            "colorbar": {
             "outlinewidth": 0,
             "ticks": ""
            },
            "type": "mesh3d"
           }
          ],
          "parcoords": [
           {
            "line": {
             "colorbar": {
              "outlinewidth": 0,
              "ticks": ""
             }
            },
            "type": "parcoords"
           }
          ],
          "pie": [
           {
            "automargin": true,
            "type": "pie"
           }
          ],
          "scatter": [
           {
            "marker": {
             "line": {
              "color": "#283442"
             }
            },
            "type": "scatter"
           }
          ],
          "scatter3d": [
           {
            "line": {
             "colorbar": {
              "outlinewidth": 0,
              "ticks": ""
             }
            },
            "marker": {
             "colorbar": {
              "outlinewidth": 0,
              "ticks": ""
             }
            },
            "type": "scatter3d"
           }
          ],
          "scattercarpet": [
           {
            "marker": {
             "colorbar": {
              "outlinewidth": 0,
              "ticks": ""
             }
            },
            "type": "scattercarpet"
           }
          ],
          "scattergeo": [
           {
            "marker": {
             "colorbar": {
              "outlinewidth": 0,
              "ticks": ""
             }
            },
            "type": "scattergeo"
           }
          ],
          "scattergl": [
           {
            "marker": {
             "line": {
              "color": "#283442"
             }
            },
            "type": "scattergl"
           }
          ],
          "scattermapbox": [
           {
            "marker": {
             "colorbar": {
              "outlinewidth": 0,
              "ticks": ""
             }
            },
            "type": "scattermapbox"
           }
          ],
          "scatterpolar": [
           {
            "marker": {
             "colorbar": {
              "outlinewidth": 0,
              "ticks": ""
             }
            },
            "type": "scatterpolar"
           }
          ],
          "scatterpolargl": [
           {
            "marker": {
             "colorbar": {
              "outlinewidth": 0,
              "ticks": ""
             }
            },
            "type": "scatterpolargl"
           }
          ],
          "scatterternary": [
           {
            "marker": {
             "colorbar": {
              "outlinewidth": 0,
              "ticks": ""
             }
            },
            "type": "scatterternary"
           }
          ],
          "surface": [
           {
            "colorbar": {
             "outlinewidth": 0,
             "ticks": ""
            },
            "colorscale": [
             [
              0,
              "#0d0887"
             ],
             [
              0.1111111111111111,
              "#46039f"
             ],
             [
              0.2222222222222222,
              "#7201a8"
             ],
             [
              0.3333333333333333,
              "#9c179e"
             ],
             [
              0.4444444444444444,
              "#bd3786"
             ],
             [
              0.5555555555555556,
              "#d8576b"
             ],
             [
              0.6666666666666666,
              "#ed7953"
             ],
             [
              0.7777777777777778,
              "#fb9f3a"
             ],
             [
              0.8888888888888888,
              "#fdca26"
             ],
             [
              1,
              "#f0f921"
             ]
            ],
            "type": "surface"
           }
          ],
          "table": [
           {
            "cells": {
             "fill": {
              "color": "#506784"
             },
             "line": {
              "color": "rgb(17,17,17)"
             }
            },
            "header": {
             "fill": {
              "color": "#2a3f5f"
             },
             "line": {
              "color": "rgb(17,17,17)"
             }
            },
            "type": "table"
           }
          ]
         },
         "layout": {
          "annotationdefaults": {
           "arrowcolor": "#f2f5fa",
           "arrowhead": 0,
           "arrowwidth": 1
          },
          "autotypenumbers": "strict",
          "coloraxis": {
           "colorbar": {
            "outlinewidth": 0,
            "ticks": ""
           }
          },
          "colorscale": {
           "diverging": [
            [
             0,
             "#8e0152"
            ],
            [
             0.1,
             "#c51b7d"
            ],
            [
             0.2,
             "#de77ae"
            ],
            [
             0.3,
             "#f1b6da"
            ],
            [
             0.4,
             "#fde0ef"
            ],
            [
             0.5,
             "#f7f7f7"
            ],
            [
             0.6,
             "#e6f5d0"
            ],
            [
             0.7,
             "#b8e186"
            ],
            [
             0.8,
             "#7fbc41"
            ],
            [
             0.9,
             "#4d9221"
            ],
            [
             1,
             "#276419"
            ]
           ],
           "sequential": [
            [
             0,
             "#0d0887"
            ],
            [
             0.1111111111111111,
             "#46039f"
            ],
            [
             0.2222222222222222,
             "#7201a8"
            ],
            [
             0.3333333333333333,
             "#9c179e"
            ],
            [
             0.4444444444444444,
             "#bd3786"
            ],
            [
             0.5555555555555556,
             "#d8576b"
            ],
            [
             0.6666666666666666,
             "#ed7953"
            ],
            [
             0.7777777777777778,
             "#fb9f3a"
            ],
            [
             0.8888888888888888,
             "#fdca26"
            ],
            [
             1,
             "#f0f921"
            ]
           ],
           "sequentialminus": [
            [
             0,
             "#0d0887"
            ],
            [
             0.1111111111111111,
             "#46039f"
            ],
            [
             0.2222222222222222,
             "#7201a8"
            ],
            [
             0.3333333333333333,
             "#9c179e"
            ],
            [
             0.4444444444444444,
             "#bd3786"
            ],
            [
             0.5555555555555556,
             "#d8576b"
            ],
            [
             0.6666666666666666,
             "#ed7953"
            ],
            [
             0.7777777777777778,
             "#fb9f3a"
            ],
            [
             0.8888888888888888,
             "#fdca26"
            ],
            [
             1,
             "#f0f921"
            ]
           ]
          },
          "colorway": [
           "#636efa",
           "#EF553B",
           "#00cc96",
           "#ab63fa",
           "#FFA15A",
           "#19d3f3",
           "#FF6692",
           "#B6E880",
           "#FF97FF",
           "#FECB52"
          ],
          "font": {
           "color": "#f2f5fa"
          },
          "geo": {
           "bgcolor": "rgb(17,17,17)",
           "lakecolor": "rgb(17,17,17)",
           "landcolor": "rgb(17,17,17)",
           "showlakes": true,
           "showland": true,
           "subunitcolor": "#506784"
          },
          "hoverlabel": {
           "align": "left"
          },
          "hovermode": "closest",
          "mapbox": {
           "style": "dark"
          },
          "paper_bgcolor": "rgb(17,17,17)",
          "plot_bgcolor": "rgb(17,17,17)",
          "polar": {
           "angularaxis": {
            "gridcolor": "#506784",
            "linecolor": "#506784",
            "ticks": ""
           },
           "bgcolor": "rgb(17,17,17)",
           "radialaxis": {
            "gridcolor": "#506784",
            "linecolor": "#506784",
            "ticks": ""
           }
          },
          "scene": {
           "xaxis": {
            "backgroundcolor": "rgb(17,17,17)",
            "gridcolor": "#506784",
            "gridwidth": 2,
            "linecolor": "#506784",
            "showbackground": true,
            "ticks": "",
            "zerolinecolor": "#C8D4E3"
           },
           "yaxis": {
            "backgroundcolor": "rgb(17,17,17)",
            "gridcolor": "#506784",
            "gridwidth": 2,
            "linecolor": "#506784",
            "showbackground": true,
            "ticks": "",
            "zerolinecolor": "#C8D4E3"
           },
           "zaxis": {
            "backgroundcolor": "rgb(17,17,17)",
            "gridcolor": "#506784",
            "gridwidth": 2,
            "linecolor": "#506784",
            "showbackground": true,
            "ticks": "",
            "zerolinecolor": "#C8D4E3"
           }
          },
          "shapedefaults": {
           "line": {
            "color": "#f2f5fa"
           }
          },
          "sliderdefaults": {
           "bgcolor": "#C8D4E3",
           "bordercolor": "rgb(17,17,17)",
           "borderwidth": 1,
           "tickwidth": 0
          },
          "ternary": {
           "aaxis": {
            "gridcolor": "#506784",
            "linecolor": "#506784",
            "ticks": ""
           },
           "baxis": {
            "gridcolor": "#506784",
            "linecolor": "#506784",
            "ticks": ""
           },
           "bgcolor": "rgb(17,17,17)",
           "caxis": {
            "gridcolor": "#506784",
            "linecolor": "#506784",
            "ticks": ""
           }
          },
          "title": {
           "x": 0.05
          },
          "updatemenudefaults": {
           "bgcolor": "#506784",
           "borderwidth": 0
          },
          "xaxis": {
           "automargin": true,
           "gridcolor": "#283442",
           "linecolor": "#506784",
           "ticks": "",
           "title": {
            "standoff": 15
           },
           "zerolinecolor": "#283442",
           "zerolinewidth": 2
          },
          "yaxis": {
           "automargin": true,
           "gridcolor": "#283442",
           "linecolor": "#506784",
           "ticks": "",
           "title": {
            "standoff": 15
           },
           "zerolinecolor": "#283442",
           "zerolinewidth": 2
          }
         }
        },
        "xaxis": {
         "anchor": "y",
         "domain": [
          0,
          1
         ]
        },
        "yaxis": {
         "anchor": "x",
         "domain": [
          0,
          1
         ]
        }
       }
      }
     },
     "metadata": {},
     "output_type": "display_data"
    }
   ],
   "source": [
    "\n",
    "recons_anular = []\n",
    "recons_indice = []\n",
    "recons_medio = []\n",
    "\n",
    "for coefs in coefs_anulares:\n",
    "    senal_recons = reconstruccionWavelet(coefs,wavelet)\n",
    "    recons_anular.append(senal_recons)\n",
    "\n",
    "for coefs in coefs_indice:\n",
    "    senal_recons = reconstruccionWavelet(coefs,wavelet)\n",
    "    recons_indice.append(senal_recons)\n",
    "\n",
    "for coefs in coefs_medio:\n",
    "    senal_recons = reconstruccionWavelet(coefs,wavelet)\n",
    "    recons_medio.append(senal_recons)\n",
    "\n",
    "\n",
    "# grafico_comp2(recons_medio[1],recons_medio[2],recons_medio[0],recons_medio[3])\n",
    "# graficar_listas(recons_medio[1],recons_indice[15])\n",
    "# graficar_listas(recons_medio[2],recons_indice[23])\n",
    "# graficar_listas(recons_medio[23],recons_indice[23])\n",
    "grafico_comp2(recons_indice[1],muestras_rango_indice[1])\n",
    "grafico_comp2(recons_medio[2],muestras_rango_medio[2])\n",
    "\n"
   ]
  },
  {
   "cell_type": "markdown",
   "metadata": {},
   "source": [
    "### Características"
   ]
  },
  {
   "cell_type": "code",
   "execution_count": 41,
   "metadata": {},
   "outputs": [],
   "source": [
    "\n",
    "datos_analizar = [recons_anular,recons_indice,recons_medio]\n",
    "\n",
    "caract_MAV = calcular_caracteristica_lista(datos_analizar, calcular_MAV)\n",
    "caract_STD = calcular_caracteristica_lista(datos_analizar, calcular_STD)\n",
    "caract_RMS = calcular_caracteristica_lista(datos_analizar, calcular_RMS)\n",
    "caract_VAR = calcular_caracteristica_lista(datos_analizar, calcular_VAR)\n",
    "caract_WL = calcular_caracteristica_lista(datos_analizar, calcular_WL)\n",
    "caract_DMAV = calcular_caracteristica_lista(datos_analizar, calcular_DMAV)\n",
    "caract_SSC = calcular_caracteristica_lista(datos_analizar, calcular_SSC)\n",
    "\n",
    "caract_Entropy = calcular_caracteristica_lista(datos_analizar, calcular_Entropy)\n",
    "caract_Mean_Derivative = calcular_caracteristica_lista(datos_analizar, calcular_Mean_Derivative)\n",
    "\n"
   ]
  },
  {
   "cell_type": "code",
   "execution_count": null,
   "metadata": {},
   "outputs": [],
   "source": [
    "graficar_listas(caract_MAV[0],caract_MAV[1],caract_MAV[2])\n",
    "graficar_listas(caract_STD[0],caract_STD[1],caract_STD[2])\n",
    "graficar_listas(caract_RMS[0],caract_RMS[1],caract_RMS[2])\n",
    "graficar_listas(caract_Mean_Derivative[0],caract_Mean_Derivative[1],caract_Mean_Derivative[2])\n",
    "graficar_listas(caract_Entropy[0],caract_Entropy[1],caract_Entropy[2])"
   ]
  },
  {
   "cell_type": "markdown",
   "metadata": {},
   "source": [
    "# Tratamiento para red neuronal"
   ]
  },
  {
   "cell_type": "code",
   "execution_count": 42,
   "metadata": {},
   "outputs": [],
   "source": [
    "sizeColumnas_anular = len(recons_anular)\n",
    "sizeColumnas_medio = len(recons_medio)\n",
    "sizeColumnas_indice = len(recons_indice)\n",
    "\n",
    "# Crear un DataFrame\n",
    "df = pd.DataFrame({\n",
    "    'MAV': caract_MAV[0] + caract_MAV[1] + caract_MAV[2],\n",
    "    'STD': caract_STD[0] + caract_STD[1] + caract_STD[2],\n",
    "    'RMS': caract_RMS[0] + caract_RMS[1] + caract_RMS[2],\n",
    "    'VAR': caract_VAR[0] + caract_VAR[1] + caract_VAR[2],\n",
    "    'WL': caract_WL[0] + caract_WL[1] + caract_WL[2],\n",
    "    'DMAV': caract_DMAV[0] + caract_DMAV[1] + caract_DMAV[2],\n",
    "    'SSC': caract_SSC[0] + caract_SSC[1] + caract_SSC[2],\n",
    "    'Entropy': caract_Entropy[0]+caract_Entropy[1]+caract_Entropy[2],\n",
    "    'MeanD': caract_Mean_Derivative[0]+caract_Mean_Derivative[1]+caract_Mean_Derivative[2],\n",
    "    'Dedo': (['Anular'] * sizeColumnas_anular + ['Índice'] * sizeColumnas_indice + ['Medio'] * sizeColumnas_medio)\n",
    "})\n"
   ]
  },
  {
   "cell_type": "markdown",
   "metadata": {},
   "source": [
    "### Exportar dataframe de las características de la señal"
   ]
  },
  {
   "cell_type": "code",
   "execution_count": 43,
   "metadata": {},
   "outputs": [],
   "source": [
    "df.to_csv('CaracteristicasCSV\\caracteristicasV18.csv', index=False)\n",
    "\n"
   ]
  },
  {
   "cell_type": "markdown",
   "metadata": {},
   "source": [
    " V5:  sin features de coeficientes puros\n",
    "\n",
    " V6:  sin SSC\n",
    "\n",
    " V7:  Se cambiaron los ceros de la matriz de datos por valores cercanos a los de reposo\n",
    "\n",
    " V8:  Se agregaron datos para entrenar\n",
    "\n",
    " V9:  ~~Sin indice_V3~~\n",
    "\n",
    " V10: Se agregó a V8 la columna SSC\n",
    " \n",
    " V11: Se agregaron nuevas características (Entropy y MeanD)\n",
    "\n",
    " V12:\n",
    "\n",
    " V13: Con la nueva version de la placa\n",
    "\n",
    " V14: Mas datos\n",
    "\n",
    " V15: Mas datos\n",
    "\n",
    " V16: Nueva versión de placa ZEMG V2 (supply=5V)"
   ]
  }
 ],
 "metadata": {
  "kernelspec": {
   "display_name": "Python 3",
   "language": "python",
   "name": "python3"
  },
  "language_info": {
   "codemirror_mode": {
    "name": "ipython",
    "version": 3
   },
   "file_extension": ".py",
   "mimetype": "text/x-python",
   "name": "python",
   "nbconvert_exporter": "python",
   "pygments_lexer": "ipython3",
   "version": "3.11.6"
  }
 },
 "nbformat": 4,
 "nbformat_minor": 2
}
