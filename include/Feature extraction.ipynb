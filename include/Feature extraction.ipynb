{
 "cells": [
  {
   "cell_type": "code",
   "execution_count": 1,
   "metadata": {},
   "outputs": [],
   "source": [
    "from Funciones import*"
   ]
  },
  {
   "cell_type": "markdown",
   "metadata": {},
   "source": [
    "##  Cargo datos de ZEMG V2"
   ]
  },
  {
   "cell_type": "code",
   "execution_count": 96,
   "metadata": {},
   "outputs": [],
   "source": [
    "import csv\n",
    "def cargar_matriz_desde_csv(nombre_archivo):\n",
    "    matriz = []\n",
    "    with open(nombre_archivo, 'r') as file:\n",
    "        reader = csv.reader(file)\n",
    "        for fila in reader:\n",
    "            matriz.append([float(elemento) for elemento in fila])\n",
    "    return matriz\n",
    "\n",
    "# Cargar las matrices desde los archivos CSV\n",
    "\n",
    "matriz_anular_V9 = cargar_matriz_desde_csv('Records/Matriz_Anular_V9.csv')\n",
    "matriz_indice_V9 = cargar_matriz_desde_csv('Records/Matriz_Indice_V9.csv')\n",
    "matriz_medio_V9 = cargar_matriz_desde_csv('Records/Matriz_Medio_V9.csv')\n",
    "matriz_anular_V10 = cargar_matriz_desde_csv('Records/Matriz_Anular_V10.csv')\n",
    "matriz_indice_V10 = cargar_matriz_desde_csv('Records/Matriz_Indice_V10.csv')\n",
    "matriz_medio_V10 = cargar_matriz_desde_csv('Records/Matriz_Medio_V10.csv')\n",
    "matriz_anular_V11 = cargar_matriz_desde_csv('Records/Matriz_Anular_V11.csv')\n",
    "matriz_indice_V11 = cargar_matriz_desde_csv('Records/Matriz_Indice_V11.csv')\n",
    "matriz_medio_V11 = cargar_matriz_desde_csv('Records/Matriz_Medio_V11.csv')\n",
    "matriz_anular_V12 = cargar_matriz_desde_csv('Records/Matriz_Anular_V12.csv')\n",
    "matriz_indice_V12 = cargar_matriz_desde_csv('Records/Matriz_Indice_V12.csv')\n",
    "matriz_medio_V12 = cargar_matriz_desde_csv('Records/Matriz_Medio_V12.csv')\n",
    "\n",
    "\n",
    "matriz_raw_anular = matriz_anular_V9[1:] + matriz_anular_V10[1:] + matriz_anular_V11[1:] + matriz_anular_V12[1:]\n",
    "matriz_raw_indice = matriz_indice_V9[1:] + matriz_indice_V10[1:] + matriz_anular_V11[1:] + matriz_anular_V12[1:]\n",
    "matriz_raw_medio =  matriz_medio_V9[1:]  + matriz_medio_V10[1:]  + matriz_anular_V11[1:] + matriz_anular_V12[1:] \n",
    "\n"
   ]
  },
  {
   "cell_type": "code",
   "execution_count": 97,
   "metadata": {},
   "outputs": [],
   "source": [
    "\n",
    "\n",
    "def procesar_matriz(matriz):\n",
    "    # Encuentra la longitud máxima de las sublistas\n",
    "    longitud_maxima = max(len(sublista) for sublista in matriz)\n",
    "\n",
    "    # Rellena las sublistas con ceros para que tengan la misma longitud\n",
    "    matriz_corregida = [sublista + [0] * (longitud_maxima - len(sublista)) for sublista in matriz]\n",
    "\n",
    "    # Convierte la lista corregida en una matriz de numpy\n",
    "    matriz_np = np.array(matriz_corregida, dtype=float)\n",
    "\n",
    "    # Reemplaza los NaN y ceros con un número aleatorio entre 114 y 121\n",
    "    matriz_procesada = np.where(np.logical_or(np.isnan(matriz_np), matriz_np == 0), np.random.randint(114, 122, matriz_np.shape), matriz_np)\n",
    "\n",
    "    return matriz_procesada\n",
    "\n",
    "matriz_raw_anular = procesar_matriz(matriz_raw_anular)\n",
    "matriz_raw_indice = procesar_matriz(matriz_raw_indice)\n",
    "matriz_raw_medio  = procesar_matriz(matriz_raw_medio )\n",
    "\n",
    "\n"
   ]
  },
  {
   "cell_type": "code",
   "execution_count": 98,
   "metadata": {},
   "outputs": [
    {
     "ename": "IndexError",
     "evalue": "list index out of range",
     "output_type": "error",
     "traceback": [
      "\u001b[1;31m---------------------------------------------------------------------------\u001b[0m",
      "\u001b[1;31mIndexError\u001b[0m                                Traceback (most recent call last)",
      "Cell \u001b[1;32mIn[98], line 4\u001b[0m\n\u001b[0;32m      1\u001b[0m \u001b[38;5;28;01mimport\u001b[39;00m \u001b[38;5;21;01mrandom\u001b[39;00m\n\u001b[0;32m      3\u001b[0m muestra \u001b[38;5;241m=\u001b[39m random\u001b[38;5;241m.\u001b[39mrandint(\u001b[38;5;241m0\u001b[39m,\u001b[38;5;241m99\u001b[39m)\n\u001b[1;32m----> 4\u001b[0m graficar_listas(\u001b[43mmatriz_anular_V12\u001b[49m\u001b[43m[\u001b[49m\u001b[43mmuestra\u001b[49m\u001b[43m]\u001b[49m,matriz_anular_V12[muestra],matriz_anular_V12[muestra])\n\u001b[0;32m      5\u001b[0m \u001b[38;5;28mprint\u001b[39m(muestra)\n",
      "\u001b[1;31mIndexError\u001b[0m: list index out of range"
     ]
    }
   ],
   "source": [
    "import random\n",
    "\n",
    "muestra = random.randint(0,99)\n",
    "graficar_listas(matriz_raw_anular[muestra],matriz_raw_indice[muestra],matriz_raw_medio[muestra])\n",
    "print(muestra)\n"
   ]
  },
  {
   "cell_type": "markdown",
   "metadata": {},
   "source": [
    "### Tratamiento de datos"
   ]
  },
  {
   "cell_type": "code",
   "execution_count": null,
   "metadata": {},
   "outputs": [],
   "source": [
    "# Utilizo los datos obtenidos de ZEMG V1.1\n",
    "\n",
    "muestras_rango_anular = []\n",
    "muestras_rango_indice = []\n",
    "muestras_rango_medio = []\n",
    "\n",
    "\n",
    "\n",
    "muestras_rango_anular = matriz_raw_anular[:, :-15]\n",
    "muestras_rango_indice = matriz_raw_indice[:, :-15]\n",
    "muestras_rango_medio  = matriz_raw_medio[:, :-15]"
   ]
  },
  {
   "cell_type": "markdown",
   "metadata": {},
   "source": [
    "## Transformada Wavelet"
   ]
  },
  {
   "cell_type": "markdown",
   "metadata": {},
   "source": [
    "### Obtención de coeficientes Wavelet"
   ]
  },
  {
   "cell_type": "code",
   "execution_count": null,
   "metadata": {},
   "outputs": [],
   "source": [
    "\n",
    "coefs_anulares = []\n",
    "coefs_indice = []\n",
    "coefs_medio = []\n",
    "\n",
    "wavelet = 'coif6' \n",
    "nivel_descomposicion = 3  \n",
    "\n",
    "\n",
    "\n",
    "for muestras_rango in muestras_rango_anular:\n",
    "    coeficientes = transformadaWavelet(muestras_rango,wavelet,nivel_descomposicion)\n",
    "    coefs_anulares.append(coeficientes)\n",
    "\n",
    "for muestras_rango in muestras_rango_indice:\n",
    "    coeficientes = transformadaWavelet(muestras_rango,wavelet,nivel_descomposicion)\n",
    "    coefs_indice.append(coeficientes)\n",
    "\n",
    "for muestras_rango in muestras_rango_medio:\n",
    "    coeficientes = transformadaWavelet(muestras_rango,wavelet,nivel_descomposicion)\n",
    "    coefs_medio.append(coeficientes)\n"
   ]
  },
  {
   "cell_type": "markdown",
   "metadata": {},
   "source": [
    "### Gráficos Wavelet"
   ]
  },
  {
   "cell_type": "code",
   "execution_count": null,
   "metadata": {},
   "outputs": [],
   "source": [
    "\n",
    "graficar_coeficientes_subplot(coefs_anulares[0])\n",
    "graficar_coeficientes_subplot(coefs_anulares[1])\n",
    "graficar_coeficientes_subplot(coefs_anulares[2])\n",
    "\n",
    "\n",
    "# graficar_coeficientes(coefs_anulares[0][0],coefs_anulares[1][0],coefs_anulares[2][0])\n",
    "# graficar_coeficientes(coefs_indice[0][0],coefs_indice[1][0],coefs_indice[2][0])\n",
    "# graficar_coeficientes(coefs_medio[0][0],coefs_medio[1][0],coefs_medio[2][0])\n",
    "# graficar_coeficientes(coefs_anulares[0][1],coefs_anulares[1][1],coefs_anulares[2][1])\n"
   ]
  },
  {
   "cell_type": "markdown",
   "metadata": {},
   "source": [
    "### Reconstrucción Wavelet"
   ]
  },
  {
   "cell_type": "code",
   "execution_count": null,
   "metadata": {
    "tags": []
   },
   "outputs": [],
   "source": [
    "\n",
    "recons_anular = []\n",
    "recons_indice = []\n",
    "recons_medio = []\n",
    "\n",
    "for coefs in coefs_anulares:\n",
    "    senal_recons = reconstruccionWavelet(coefs,wavelet)\n",
    "    recons_anular.append(senal_recons)\n",
    "\n",
    "for coefs in coefs_indice:\n",
    "    senal_recons = reconstruccionWavelet(coefs,wavelet)\n",
    "    recons_indice.append(senal_recons)\n",
    "\n",
    "for coefs in coefs_medio:\n",
    "    senal_recons = reconstruccionWavelet(coefs,wavelet)\n",
    "    recons_medio.append(senal_recons)\n",
    "\n",
    "\n",
    "# grafico_comp2(recons_medio[1],recons_medio[2],recons_medio[0],recons_medio[3])\n",
    "graficar_listas(recons_medio[1],recons_indice[15])\n",
    "graficar_listas(recons_medio[2],recons_indice[23])\n",
    "graficar_listas(recons_medio[23],recons_indice[23])\n",
    "# grafico_comp2(recons_indice[1],muestras_rango_indice[1])\n",
    "# grafico_comp2(recons_medio[2],muestras_rango_medio[2])\n",
    "\n"
   ]
  },
  {
   "cell_type": "markdown",
   "metadata": {},
   "source": [
    "### Características"
   ]
  },
  {
   "cell_type": "code",
   "execution_count": null,
   "metadata": {},
   "outputs": [],
   "source": [
    "\n",
    "datos_analizar = [recons_anular,recons_indice,recons_medio]\n",
    "\n",
    "caract_MAV = calcular_caracteristica_lista(datos_analizar, calcular_MAV)\n",
    "caract_STD = calcular_caracteristica_lista(datos_analizar, calcular_STD)\n",
    "caract_RMS = calcular_caracteristica_lista(datos_analizar, calcular_RMS)\n",
    "caract_VAR = calcular_caracteristica_lista(datos_analizar, calcular_VAR)\n",
    "caract_WL = calcular_caracteristica_lista(datos_analizar, calcular_WL)\n",
    "caract_DMAV = calcular_caracteristica_lista(datos_analizar, calcular_DMAV)\n",
    "caract_SSC = calcular_caracteristica_lista(datos_analizar, calcular_SSC)\n",
    "\n",
    "caract_Entropy = calcular_caracteristica_lista(datos_analizar, calcular_Entropy)\n",
    "caract_Mean_Derivative = calcular_caracteristica_lista(datos_analizar, calcular_Mean_Derivative)\n",
    "\n"
   ]
  },
  {
   "cell_type": "code",
   "execution_count": null,
   "metadata": {},
   "outputs": [],
   "source": [
    "graficar_listas(caract_MAV[0],caract_MAV[1],caract_MAV[2])\n",
    "graficar_listas(caract_STD[0],caract_STD[1],caract_STD[2])\n",
    "graficar_listas(caract_RMS[0],caract_RMS[1],caract_RMS[2])\n",
    "graficar_listas(caract_Mean_Derivative[0],caract_Mean_Derivative[1],caract_Mean_Derivative[2])\n",
    "graficar_listas(caract_Entropy[0],caract_Entropy[1],caract_Entropy[2])"
   ]
  },
  {
   "cell_type": "markdown",
   "metadata": {},
   "source": [
    "# Tratamiento para red neuronal"
   ]
  },
  {
   "cell_type": "code",
   "execution_count": null,
   "metadata": {},
   "outputs": [],
   "source": [
    "sizeColumnas_anular = len(recons_anular)\n",
    "sizeColumnas_medio = len(recons_medio)\n",
    "sizeColumnas_indice = len(recons_indice)\n",
    "\n",
    "# Crear un DataFrame\n",
    "df = pd.DataFrame({\n",
    "    'MAV': caract_MAV[0] + caract_MAV[1] + caract_MAV[2],\n",
    "    'STD': caract_STD[0] + caract_STD[1] + caract_STD[2],\n",
    "    'RMS': caract_RMS[0] + caract_RMS[1] + caract_RMS[2],\n",
    "    'VAR': caract_VAR[0] + caract_VAR[1] + caract_VAR[2],\n",
    "    'WL': caract_WL[0] + caract_WL[1] + caract_WL[2],\n",
    "    'DMAV': caract_DMAV[0] + caract_DMAV[1] + caract_DMAV[2],\n",
    "    'SSC': caract_SSC[0] + caract_SSC[1] + caract_SSC[2],\n",
    "    'Entropy': caract_Entropy[0]+caract_Entropy[1]+caract_Entropy[2],\n",
    "    'MeanD': caract_Mean_Derivative[0]+caract_Mean_Derivative[1]+caract_Mean_Derivative[2],\n",
    "    'Dedo': (['Anular'] * sizeColumnas_anular + ['Índice'] * sizeColumnas_indice + ['Medio'] * sizeColumnas_medio)\n",
    "})\n"
   ]
  },
  {
   "cell_type": "markdown",
   "metadata": {},
   "source": [
    "### Exportar dataframe de las características de la señal"
   ]
  },
  {
   "cell_type": "code",
   "execution_count": null,
   "metadata": {},
   "outputs": [],
   "source": [
    "df.to_csv('CaracteristicasCSV\\caracteristicasV16.csv', index=False)\n",
    "\n"
   ]
  },
  {
   "cell_type": "markdown",
   "metadata": {},
   "source": [
    " V5:  sin features de coeficientes puros\n",
    "\n",
    " V6:  sin SSC\n",
    "\n",
    " V7:  Se cambiaron los ceros de la matriz de datos por valores cercanos a los de reposo\n",
    "\n",
    " V8:  Se agregaron datos para entrenar\n",
    "\n",
    " V9:  ~~Sin indice_V3~~\n",
    "\n",
    " V10: Se agregó a V8 la columna SSC\n",
    " \n",
    " V11: Se agregaron nuevas características (Entropy y MeanD)\n",
    "\n",
    " V12:\n",
    "\n",
    " V13: Con la nueva version de la placa\n",
    "\n",
    " V14: Mas datos\n",
    "\n",
    " V15: Mas datos\n",
    "\n",
    " V16: Nueva versión de placa ZEMG V2 (supply=5V)"
   ]
  }
 ],
 "metadata": {
  "kernelspec": {
   "display_name": "Python 3",
   "language": "python",
   "name": "python3"
  },
  "language_info": {
   "codemirror_mode": {
    "name": "ipython",
    "version": 3
   },
   "file_extension": ".py",
   "mimetype": "text/x-python",
   "name": "python",
   "nbconvert_exporter": "python",
   "pygments_lexer": "ipython3",
   "version": "3.11.6"
  }
 },
 "nbformat": 4,
 "nbformat_minor": 2
}
